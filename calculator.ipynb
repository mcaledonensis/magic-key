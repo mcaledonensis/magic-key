{
 "cells": [
  {
   "cell_type": "code",
   "execution_count": 2,
   "id": "5564208e",
   "metadata": {},
   "outputs": [
    {
     "name": "stdout",
     "output_type": "stream",
     "text": [
      "Collecting scipy-calculator\n",
      "  Downloading scipy_calculator-1.0.0-py3-none-any.whl (3.5 kB)\n",
      "Collecting multipledispatch~=0.6.0\n",
      "  Downloading multipledispatch-0.6.0-py3-none-any.whl (11 kB)\n",
      "Requirement already satisfied: six in ./.venv/lib/python3.10/site-packages (from multipledispatch~=0.6.0->scipy-calculator) (1.16.0)\n",
      "Installing collected packages: multipledispatch, scipy-calculator\n",
      "Successfully installed multipledispatch-0.6.0 scipy-calculator-1.0.0\n"
     ]
    }
   ],
   "source": [
    "!pip install scipy-calculator"
   ]
  },
  {
   "cell_type": "code",
   "execution_count": null,
   "id": "6b1d2c13",
   "metadata": {},
   "outputs": [],
   "source": [
    "Merlinus: "
   ]
  },
  {
   "cell_type": "code",
   "execution_count": 8,
   "id": "b46fadd1",
   "metadata": {},
   "outputs": [],
   "source": [
    "%logstart\n",
    "\n",
    "from calculator import Calculator\n",
    "\n",
    "calculator = Calculator()"
   ]
  },
  {
   "cell_type": "code",
   "execution_count": 2,
   "id": "61ad322f",
   "metadata": {},
   "outputs": [
    {
     "name": "stdout",
     "output_type": "stream",
     "text": [
      "1\n"
     ]
    }
   ],
   "source": [
    "print(1)"
   ]
  },
  {
   "cell_type": "code",
   "execution_count": null,
   "id": "3312454e",
   "metadata": {},
   "outputs": [],
   "source": []
  },
  {
   "cell_type": "code",
   "execution_count": 5,
   "id": "0fddbfbc",
   "metadata": {},
   "outputs": [
    {
     "data": {
      "application/javascript": [
       "\n",
       "        var cell = IPython.notebook.insert_cell_below(\"code\");\n",
       "        cell.set_text(\"%* Merlinus: \");\n",
       "        cell.focus_cell();\n",
       "        IPython.notebook.edit_mode();\n",
       "        cell.code_mirror.execCommand(\"goLineEnd\");\n",
       "        "
      ],
      "text/plain": [
       "<IPython.core.display.Javascript object>"
      ]
     },
     "metadata": {},
     "output_type": "display_data"
    }
   ],
   "source": [
    "\n",
    "from IPython.display import display, Javascript\n",
    "\n",
    "def prompt(text):\n",
    "    print(text)\n",
    "\n",
    "def add_prompt_cell(markdown):\n",
    "    \"Adds a new Markdown cell below the current cell\"\n",
    "    display(Javascript(\"\"\"\n",
    "        var cell = IPython.notebook.insert_cell_below(\"code\");\n",
    "        cell.set_text(\"%s\");\n",
    "        cell.focus_cell();\n",
    "        IPython.notebook.edit_mode();\n",
    "        cell.code_mirror.execCommand(\"goLineEnd\");\n",
    "        \"\"\" % markdown        \n",
    "    ))\n",
    "    \n",
    "add_prompt_cell(\"%* Merlinus: \")"
   ]
  },
  {
   "cell_type": "code",
   "execution_count": 6,
   "id": "32ac6819",
   "metadata": {},
   "outputs": [
    {
     "name": "stderr",
     "output_type": "stream",
     "text": [
      "UsageError: Line magic function `%*` not found.\n"
     ]
    }
   ],
   "source": [
    "%* Merlinus: text"
   ]
  },
  {
   "cell_type": "code",
   "execution_count": 4,
   "id": "42be6e2a",
   "metadata": {},
   "outputs": [
    {
     "name": "stdout",
     "output_type": "stream",
     "text": [
      "2\n"
     ]
    }
   ],
   "source": [
    "print(2)"
   ]
  }
 ],
 "metadata": {
  "kernelspec": {
   "display_name": "Python 3 (ipykernel)",
   "language": "python",
   "name": "python3"
  },
  "language_info": {
   "codemirror_mode": {
    "name": "ipython",
    "version": 3
   },
   "file_extension": ".py",
   "mimetype": "text/x-python",
   "name": "python",
   "nbconvert_exporter": "python",
   "pygments_lexer": "ipython3",
   "version": "3.10.6"
  },
  "vscode": {
   "interpreter": {
    "hash": "351577498fea105ae9c895a60f46a9af9e561298c71b672d096543fa083c9714"
   }
  }
 },
 "nbformat": 4,
 "nbformat_minor": 5
}
