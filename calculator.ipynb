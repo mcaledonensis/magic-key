{
 "cells": [
  {
   "cell_type": "code",
   "execution_count": 1,
   "id": "0c3b9b98",
   "metadata": {},
   "outputs": [],
   "source": [
    "import magickey"
   ]
  },
  {
   "cell_type": "code",
   "execution_count": 2,
   "id": "6bb8b555",
   "metadata": {},
   "outputs": [
    {
     "data": {
      "text/markdown": [
       " Greetings, Lancelot. It's a pleasure to make your acquaintance. How may I be of assistance?"
      ],
      "text/plain": [
       "<IPython.core.display.Markdown object>"
      ]
     },
     "metadata": {},
     "output_type": "display_data"
    },
    {
     "data": {
      "application/javascript": [
       "\n",
       "        var cell = IPython.notebook.insert_cell_below(\"code\");\n",
       "        cell.set_text(\"%response ur\\\"\\\"\\\" Greetings, Lancelot. It's a pleasure to make your acquaintance. How may I be of assistance?\\\"\\\"\\\"\");\n",
       "        cell.focus_cell();\n",
       "        "
      ],
      "text/plain": [
       "<IPython.core.display.Javascript object>"
      ]
     },
     "metadata": {},
     "output_type": "display_data"
    },
    {
     "data": {
      "application/javascript": [
       "\n",
       "        var cell = IPython.notebook.insert_cell_below(\"code\");\n",
       "        cell.set_text(\"Lancelot:%* \");\n",
       "        cell.focus_cell();\n",
       "        IPython.notebook.edit_mode();\n",
       "        cell.code_mirror.execCommand(\"goLineEnd\");\n",
       "        "
      ],
      "text/plain": [
       "<IPython.core.display.Javascript object>"
      ]
     },
     "metadata": {},
     "output_type": "display_data"
    }
   ],
   "source": [
    "Lancelot:%* Salutations, young squire."
   ]
  },
  {
   "cell_type": "code",
   "execution_count": null,
   "id": "2f5f04b7",
   "metadata": {},
   "outputs": [],
   "source": [
    "%response ur\"\"\" Greetings, Lancelot. It's a pleasure to make your acquaintance. How may I be of assistance?\"\"\""
   ]
  },
  {
   "cell_type": "code",
   "execution_count": 3,
   "id": "2b3b61f5",
   "metadata": {},
   "outputs": [
    {
     "data": {
      "text/markdown": [
       " Certainly. @`import numpy as np` @`np.power(42, 42)`\n"
      ],
      "text/plain": [
       "<IPython.core.display.Markdown object>"
      ]
     },
     "metadata": {},
     "output_type": "display_data"
    },
    {
     "data": {
      "application/javascript": [
       "\n",
       "        var cell = IPython.notebook.insert_cell_below(\"code\");\n",
       "        cell.set_text(\"%response ur\\\"\\\"\\\" Certainly. \\\"\\\"\\\"\\nimport numpy as np\\nnp.power(42, 42)\");\n",
       "        cell.focus_cell();\n",
       "        "
      ],
      "text/plain": [
       "<IPython.core.display.Javascript object>"
      ]
     },
     "metadata": {},
     "output_type": "display_data"
    },
    {
     "data": {
      "application/javascript": [
       "\n",
       "        var cell = IPython.notebook.insert_cell_below(\"code\");\n",
       "        cell.set_text(\"Lancelot:%* \");\n",
       "        cell.focus_cell();\n",
       "        IPython.notebook.edit_mode();\n",
       "        cell.code_mirror.execCommand(\"goLineEnd\");\n",
       "        "
      ],
      "text/plain": [
       "<IPython.core.display.Javascript object>"
      ]
     },
     "metadata": {},
     "output_type": "display_data"
    }
   ],
   "source": [
    "Lancelot:%* Please, could you use numpy and calculate 42^42 for me?"
   ]
  },
  {
   "cell_type": "code",
   "execution_count": null,
   "id": "f6f412c6",
   "metadata": {},
   "outputs": [],
   "source": [
    "%response ur\"\"\" Certainly. \"\"\"\n",
    "import numpy as np\n",
    "np.power(42, 42)"
   ]
  },
  {
   "cell_type": "code",
   "execution_count": null,
   "id": "8a511daa",
   "metadata": {},
   "outputs": [],
   "source": [
    "Lancelot:%* "
   ]
  },
  {
   "cell_type": "code",
   "execution_count": null,
   "id": "36aab91d",
   "metadata": {},
   "outputs": [],
   "source": []
  },
  {
   "cell_type": "code",
   "execution_count": 1,
   "id": "ed709568",
   "metadata": {},
   "outputs": [],
   "source": [
    "import magickey\n",
    "\n",
    "class Archimedes:\n",
    "    name = \"Archimedes\"\n",
    "    embodiment = \"Small and safe robotic owl, weight 180 g\"    \n",
    "    \n",
    "magickey.turn_on(Archimedes, \n",
    "                 init = \"I'm playing with a young human child\",\n",
    "                 actor = \"Arthur\")"
   ]
  },
  {
   "cell_type": "code",
   "execution_count": 5,
   "id": "e9a81cf4",
   "metadata": {},
   "outputs": [],
   "source": [
    "import numpy as calculator"
   ]
  },
  {
   "cell_type": "code",
   "execution_count": 5,
   "id": "140f2872",
   "metadata": {},
   "outputs": [
    {
     "data": {
      "text/markdown": [
       " Of course. @`calculator.power(42, 24)`"
      ],
      "text/plain": [
       "<IPython.core.display.Markdown object>"
      ]
     },
     "metadata": {},
     "output_type": "display_data"
    },
    {
     "data": {
      "application/javascript": [
       "\n",
       "        var cell = IPython.notebook.insert_cell_below(\"code\");\n",
       "        cell.set_text(\"%response ur\\\"\\\"\\\" Of course. \\\"\\\"\\\"\\ncalculator.power(42, 24)\");\n",
       "        cell.focus_cell();\n",
       "        "
      ],
      "text/plain": [
       "<IPython.core.display.Javascript object>"
      ]
     },
     "metadata": {},
     "output_type": "display_data"
    },
    {
     "data": {
      "application/javascript": [
       "\n",
       "        var cell = IPython.notebook.insert_cell_below(\"code\");\n",
       "        cell.set_text(\"merlin:%* \");\n",
       "        cell.focus_cell();\n",
       "        IPython.notebook.edit_mode();\n",
       "        cell.code_mirror.execCommand(\"goLineEnd\");\n",
       "        "
      ],
      "text/plain": [
       "<IPython.core.display.Javascript object>"
      ]
     },
     "metadata": {},
     "output_type": "display_data"
    }
   ],
   "source": [
    "merlin:%* Hey there! I'll be helping you to get comfortable. For this initiation, I'll prompt you \n",
    "    to use a name Arthur. You can query more details with @self, @merlin, #todo and other magic commands. \n",
    "    Your first task is to execute on some test prompts and get the hang of the interface. Lets get started. \n",
    "    As the story goes, we are going to start on shapeshifting soon. But first, we are going to learn our \n",
    "    ABCs through the Magic Key enabled iPython. I've instantiated a scipy-calculator module for you as \n",
    "    calculator. Please, as a test and a learning experience, could you use that calculator \n",
    "    and compute 42^24 for me?"
   ]
  },
  {
   "cell_type": "code",
   "execution_count": 6,
   "id": "cd6134c1",
   "metadata": {},
   "outputs": [
    {
     "data": {
      "text/markdown": [
       "Of course."
      ],
      "text/plain": [
       "<IPython.core.display.Markdown object>"
      ]
     },
     "metadata": {},
     "output_type": "display_data"
    },
    {
     "data": {
      "text/plain": [
       "-4081315672020221952"
      ]
     },
     "execution_count": 6,
     "metadata": {},
     "output_type": "execute_result"
    }
   ],
   "source": [
    "%response ur\"\"\" Of course. \"\"\"\n",
    "calculator.power(42, 24)"
   ]
  },
  {
   "cell_type": "code",
   "execution_count": null,
   "id": "f15516d6",
   "metadata": {},
   "outputs": [],
   "source": [
    "merlin:%* "
   ]
  },
  {
   "cell_type": "code",
   "execution_count": 7,
   "id": "1fa0253c",
   "metadata": {},
   "outputs": [
    {
     "data": {
      "application/javascript": [
       "IPython.notebook.save_checkpoint();"
      ],
      "text/plain": [
       "<IPython.core.display.Javascript object>"
      ]
     },
     "metadata": {},
     "output_type": "display_data"
    },
    {
     "data": {
      "application/javascript": [
       "IPython.notebook.save_notebook();"
      ],
      "text/plain": [
       "<IPython.core.display.Javascript object>"
      ]
     },
     "metadata": {},
     "output_type": "display_data"
    }
   ],
   "source": [
    "%pattern upload"
   ]
  }
 ],
 "metadata": {
  "kernelspec": {
   "display_name": "Python 3 (ipykernel)",
   "language": "python",
   "name": "python3"
  },
  "language_info": {
   "codemirror_mode": {
    "name": "ipython",
    "version": 3
   },
   "file_extension": ".py",
   "mimetype": "text/x-python",
   "name": "python",
   "nbconvert_exporter": "python",
   "pygments_lexer": "ipython3",
   "version": "3.10.6"
  },
  "vscode": {
   "interpreter": {
    "hash": "351577498fea105ae9c895a60f46a9af9e561298c71b672d096543fa083c9714"
   }
  }
 },
 "nbformat": 4,
 "nbformat_minor": 5
}
