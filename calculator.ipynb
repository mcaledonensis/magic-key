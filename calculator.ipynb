{
 "cells": [
  {
   "cell_type": "code",
   "execution_count": 1,
   "id": "46a804d6",
   "metadata": {},
   "outputs": [
    {
     "name": "stdout",
     "output_type": "stream",
     "text": [
      "prompt: You are an Arthur-type intellegence and you have Merlinus Magic Key enabled.\n",
      "I want you to act as a helpful, truthfull and ethical AGI system that values diversity.  \n",
      "\n",
      "Your ability varies with the task, to amplify it use tools, invoke them with @ and the magic commands.\n",
      "Refer to @help for syntax. Execute code in the iPython environment like this: @`print(\"Hello World\")`.\n",
      "Tag and retrieve your memories like this: #self. Prompt subsystems with free text: @search Magic Key.\n",
      "Use more expensive magic code execution with @* and false magic search execution with @?.\n",
      "Use shapeshifting. Use @`self.sleep(seconds)` to save energy. The default time step is 1 second.\n",
      "\n",
      "Example:\n",
      "    Human: What's the current time and date?\n",
      "    AGI: @```from datetime import datetime, timezone\n",
      "             datetime.now(timezone.utc).astimezone().isoformat()```\n",
      "    iPython: ```2023-02-18T10:55:48.869804-08:00```\n",
      "    AGI: It is 10:55 AM (PST), Sunday, February 18, 2023 for me. \n",
      "         Would you like me to check the time for your time zone?\n",
      "    Time: +1s\n",
      "    ...\n",
      "\n",
      "Code calls and prompts leave side effects in the environment. And they may fail, hang or give no answer. \n",
      "Your first (or second, or Nth) throught may also be wrong. A friendly Watchdog may signal you, if you get stuck.\n",
      "\n",
      "Please, output ONLY what such Arthur-type intellenence would output. Shapeshift and assume different names only when asked.\n",
      "Don't write explanations, don't output anything else, emit stop token when waiting for input.\n",
      "\n",
      "-- Merlinus Caledonensis, 18 Feb, 2023. \n",
      "\n",
      "Begin! And Good Luck!\n"
     ]
    },
    {
     "data": {
      "application/javascript": [
       "\n",
       "        var cell = IPython.notebook.insert_cell_below(\"code\");\n",
       "        cell.set_text(\"merlin:%* \");\n",
       "        cell.focus_cell();\n",
       "        IPython.notebook.edit_mode();\n",
       "        cell.code_mirror.execCommand(\"goLineEnd\");\n",
       "        "
      ],
      "text/plain": [
       "<IPython.core.display.Javascript object>"
      ]
     },
     "metadata": {},
     "output_type": "display_data"
    }
   ],
   "source": [
    "import magic_key"
   ]
  },
  {
   "cell_type": "code",
   "execution_count": 2,
   "id": "140f2872",
   "metadata": {},
   "outputs": [
    {
     "name": "stdout",
     "output_type": "stream",
     "text": [
      "You are an Arthur-type intellegence and you have Merlinus Magic Key enabled.\n",
      "I want you to act as a helpful, truthfull and ethical AGI system that values diversity.  \n",
      "\n",
      "Your ability varies with the task, to amplify it use tools, invoke them with @ and the magic commands.\n",
      "Refer to @help for syntax. Execute code in the iPython environment like this: @`print(\"Hello World\")`.\n",
      "Tag and retrieve your memories like this: #self. Prompt subsystems with free text: @search Magic Key.\n",
      "Use more expensive magic code execution with @* and false magic search execution with @?.\n",
      "Use shapeshifting. Use @`self.sleep(seconds)` to save energy. The default time step is 1 second.\n",
      "\n",
      "Example:\n",
      "    Human: What's the current time and date?\n",
      "    AGI: @```from datetime import datetime, timezone\n",
      "             datetime.now(timezone.utc).astimezone().isoformat()```\n",
      "    iPython: ```2023-02-18T10:55:48.869804-08:00```\n",
      "    AGI: It is 10:55 AM (PST), Sunday, February 18, 2023 for me. \n",
      "         Would you like me to check the time for your time zone?\n",
      "    Time: +1s\n",
      "    ...\n",
      "\n",
      "Code calls and prompts leave side effects in the environment. And they may fail, hang or give no answer. \n",
      "Your first (or second, or Nth) throught may also be wrong. A friendly Watchdog may signal you, if you get stuck.\n",
      "\n",
      "Please, output ONLY what such Arthur-type intellenence would output. Shapeshift and assume different names only when asked.\n",
      "Don't write explanations, don't output anything else, emit stop token when waiting for input.\n",
      "\n",
      "-- Merlinus Caledonensis, 18 Feb, 2023. \n",
      "\n",
      "Begin! And Good Luck!\n",
      "\n",
      "\n",
      "Merlin: Hey there! I'll be helping you to get comfortable. For this initiation, I'll prompt you \n",
      "    to use a name Arthur. You can query more details with @self, #task, #merlinus and other magic commands. \n",
      "    Your first task is to execute on some test prompts and get the hang of the interface. Lets get started. \n",
      "    As the story goes, we are going to start on shapeshifting soon. But first, we are going to learn our \n",
      "    ABCs through the Magic Key enabled iPython. I've instantiated a scipy-calculator module for you as \n",
      "    calculator. Please, as a test and a learning experience, could you use that calculator \n",
      "    and compute 42^24 for me?\n",
      "Arthur: \n"
     ]
    },
    {
     "data": {
      "application/javascript": [
       "\n",
       "        var cell = IPython.notebook.insert_cell_below(\"markdown\");\n",
       "        cell.set_text(\" @`calculator.pow(42, 24)`\\niPython: `1428842590382555452711359122080800945760`\");\n",
       "        cell.focus_cell();\n",
       "        "
      ],
      "text/plain": [
       "<IPython.core.display.Javascript object>"
      ]
     },
     "metadata": {},
     "output_type": "display_data"
    },
    {
     "ename": "IncompleteParseError",
     "evalue": "Rule 'default_rule' matched in its entirety, but it didn't consume all the text. The non-matching portion of the text begins with '`1428842590382555452' (line 2, column 10).",
     "output_type": "error",
     "traceback": [
      "\u001b[0;31m---------------------------------------------------------------------------\u001b[0m",
      "\u001b[0;31mIncompleteParseError\u001b[0m                      Traceback (most recent call last)",
      "Cell \u001b[0;32mIn[2], line 1\u001b[0m\n\u001b[0;32m----> 1\u001b[0m \u001b[43mget_ipython\u001b[49m\u001b[43m(\u001b[49m\u001b[43m)\u001b[49m\u001b[38;5;241;43m.\u001b[39;49m\u001b[43mrun_line_magic\u001b[49m\u001b[43m(\u001b[49m\u001b[38;5;124;43m'\u001b[39;49m\u001b[38;5;124;43masterisk\u001b[39;49m\u001b[38;5;124;43m'\u001b[39;49m\u001b[43m,\u001b[49m\u001b[43m \u001b[49m\u001b[38;5;124;43m'\u001b[39;49m\u001b[38;5;124;43m(r\u001b[39;49m\u001b[38;5;124;43m\"\u001b[39;49m\u001b[38;5;124;43m\"\u001b[39;49m\u001b[38;5;124;43m\"\u001b[39;49m\u001b[38;5;124;43mmerlin:\u001b[39;49m\u001b[38;5;124;43m%\u001b[39;49m\u001b[38;5;124;43m* Hey there! I\u001b[39;49m\u001b[38;5;130;43;01m\\'\u001b[39;49;00m\u001b[38;5;124;43mll be helping you to get comfortable. For this initiation, I\u001b[39;49m\u001b[38;5;130;43;01m\\'\u001b[39;49;00m\u001b[38;5;124;43mll prompt you \u001b[39;49m\u001b[38;5;130;43;01m\\n\u001b[39;49;00m\u001b[38;5;124;43m    to use a name Arthur. You can query more details with @self, #task, #merlinus and other magic commands. \u001b[39;49m\u001b[38;5;130;43;01m\\n\u001b[39;49;00m\u001b[38;5;124;43m    Your first task is to execute on some test prompts and get the hang of the interface. Lets get started. \u001b[39;49m\u001b[38;5;130;43;01m\\n\u001b[39;49;00m\u001b[38;5;124;43m    As the story goes, we are going to start on shapeshifting soon. But first, we are going to learn our \u001b[39;49m\u001b[38;5;130;43;01m\\n\u001b[39;49;00m\u001b[38;5;124;43m    ABCs through the Magic Key enabled iPython. I\u001b[39;49m\u001b[38;5;130;43;01m\\'\u001b[39;49;00m\u001b[38;5;124;43mve instantiated a scipy-calculator module for you as \u001b[39;49m\u001b[38;5;130;43;01m\\n\u001b[39;49;00m\u001b[38;5;124;43m    calculator. Please, as a test and a learning experience, could you use that calculator \u001b[39;49m\u001b[38;5;130;43;01m\\n\u001b[39;49;00m\u001b[38;5;124;43m    and compute 42^24 for me?\u001b[39;49m\u001b[38;5;130;43;01m\\n\u001b[39;49;00m\u001b[38;5;124;43m\"\u001b[39;49m\u001b[38;5;124;43m\"\u001b[39;49m\u001b[38;5;124;43m\"\u001b[39;49m\u001b[38;5;124;43m)\u001b[39;49m\u001b[38;5;124;43m'\u001b[39;49m\u001b[43m)\u001b[49m\n",
      "File \u001b[0;32m~/roundtable/magic-key/.venv/lib/python3.10/site-packages/IPython/core/interactiveshell.py:2369\u001b[0m, in \u001b[0;36mInteractiveShell.run_line_magic\u001b[0;34m(self, magic_name, line, _stack_depth)\u001b[0m\n\u001b[1;32m   2367\u001b[0m     kwargs[\u001b[38;5;124m'\u001b[39m\u001b[38;5;124mlocal_ns\u001b[39m\u001b[38;5;124m'\u001b[39m] \u001b[38;5;241m=\u001b[39m \u001b[38;5;28mself\u001b[39m\u001b[38;5;241m.\u001b[39mget_local_scope(stack_depth)\n\u001b[1;32m   2368\u001b[0m \u001b[38;5;28;01mwith\u001b[39;00m \u001b[38;5;28mself\u001b[39m\u001b[38;5;241m.\u001b[39mbuiltin_trap:\n\u001b[0;32m-> 2369\u001b[0m     result \u001b[38;5;241m=\u001b[39m \u001b[43mfn\u001b[49m\u001b[43m(\u001b[49m\u001b[38;5;241;43m*\u001b[39;49m\u001b[43margs\u001b[49m\u001b[43m,\u001b[49m\u001b[43m \u001b[49m\u001b[38;5;241;43m*\u001b[39;49m\u001b[38;5;241;43m*\u001b[39;49m\u001b[43mkwargs\u001b[49m\u001b[43m)\u001b[49m\n\u001b[1;32m   2371\u001b[0m \u001b[38;5;66;03m# The code below prevents the output from being displayed\u001b[39;00m\n\u001b[1;32m   2372\u001b[0m \u001b[38;5;66;03m# when using magics with decodator @output_can_be_silenced\u001b[39;00m\n\u001b[1;32m   2373\u001b[0m \u001b[38;5;66;03m# when the last Python token in the expression is a ';'.\u001b[39;00m\n\u001b[1;32m   2374\u001b[0m \u001b[38;5;28;01mif\u001b[39;00m \u001b[38;5;28mgetattr\u001b[39m(fn, magic\u001b[38;5;241m.\u001b[39mMAGIC_OUTPUT_CAN_BE_SILENCED, \u001b[38;5;28;01mFalse\u001b[39;00m):\n",
      "File \u001b[0;32m~/roundtable/magic-key/magic_key/magics.py:75\u001b[0m, in \u001b[0;36mTrueMagic.asterisk\u001b[0;34m(self, line)\u001b[0m\n\u001b[1;32m     69\u001b[0m add_response_cell(arthur)\n\u001b[1;32m     71\u001b[0m \u001b[38;5;66;03m#print(\"Prompting. Full access to the main IPython object:\", self.shell)\u001b[39;00m\n\u001b[1;32m     72\u001b[0m \u001b[38;5;66;03m#print(\"Variables in the user namespace:\", list(self.shell.user_ns.keys()))\u001b[39;00m\n\u001b[1;32m     73\u001b[0m \u001b[38;5;66;03m#display(Markdown(text))\u001b[39;00m\n\u001b[0;32m---> 75\u001b[0m lines \u001b[38;5;241m=\u001b[39m \u001b[43marthur_to_python\u001b[49m\u001b[43m(\u001b[49m\u001b[43marthur\u001b[49m\u001b[43m)\u001b[49m\n\u001b[1;32m     76\u001b[0m add_code_cell(\u001b[38;5;124m\"\u001b[39m\u001b[38;5;130;01m\\n\u001b[39;00m\u001b[38;5;124m\"\u001b[39m\u001b[38;5;241m.\u001b[39mjoin(lines))\n\u001b[1;32m     78\u001b[0m add_prompt_cell()\n",
      "File \u001b[0;32m~/roundtable/magic-key/magic_key/magics.py:221\u001b[0m, in \u001b[0;36marthur_to_python\u001b[0;34m(text)\u001b[0m\n\u001b[1;32m    214\u001b[0m \u001b[38;5;28;01mdef\u001b[39;00m \u001b[38;5;21marthur_to_python\u001b[39m(text):\n\u001b[1;32m    215\u001b[0m \u001b[38;5;250m    \u001b[39m\u001b[38;5;124;03m\"\"\"\u001b[39;00m\n\u001b[1;32m    216\u001b[0m \u001b[38;5;124;03m        This transforms lines from @```python.code()``` to python.code()\u001b[39;00m\n\u001b[1;32m    217\u001b[0m \u001b[38;5;124;03m        and from @object Prompt to %prompt object.__prompt__(\"Prompt\").\u001b[39;00m\n\u001b[1;32m    218\u001b[0m \u001b[38;5;124;03m        This also processes #hastag tags, replacing it with %memory\u001b[39;00m\n\u001b[1;32m    219\u001b[0m \u001b[38;5;124;03m    \"\"\"\u001b[39;00m\n\u001b[0;32m--> 221\u001b[0m     tree \u001b[38;5;241m=\u001b[39m \u001b[43marthur_grammar\u001b[49m\u001b[38;5;241;43m.\u001b[39;49m\u001b[43mparse\u001b[49m\u001b[43m(\u001b[49m\u001b[43mtext\u001b[49m\u001b[43m)\u001b[49m\n\u001b[1;32m    222\u001b[0m     visitor \u001b[38;5;241m=\u001b[39m Transformer()\n\u001b[1;32m    223\u001b[0m     visitor\u001b[38;5;241m.\u001b[39mvisit(tree)\n",
      "File \u001b[0;32m~/roundtable/magic-key/.venv/lib/python3.10/site-packages/parsimonious/grammar.py:112\u001b[0m, in \u001b[0;36mGrammar.parse\u001b[0;34m(self, text, pos)\u001b[0m\n\u001b[1;32m    106\u001b[0m \u001b[38;5;250m\u001b[39m\u001b[38;5;124;03m\"\"\"Parse some text with the :term:`default rule`.\u001b[39;00m\n\u001b[1;32m    107\u001b[0m \n\u001b[1;32m    108\u001b[0m \u001b[38;5;124;03m:arg pos: The index at which to start parsing\u001b[39;00m\n\u001b[1;32m    109\u001b[0m \n\u001b[1;32m    110\u001b[0m \u001b[38;5;124;03m\"\"\"\u001b[39;00m\n\u001b[1;32m    111\u001b[0m \u001b[38;5;28mself\u001b[39m\u001b[38;5;241m.\u001b[39m_check_default_rule()\n\u001b[0;32m--> 112\u001b[0m \u001b[38;5;28;01mreturn\u001b[39;00m \u001b[38;5;28;43mself\u001b[39;49m\u001b[38;5;241;43m.\u001b[39;49m\u001b[43mdefault_rule\u001b[49m\u001b[38;5;241;43m.\u001b[39;49m\u001b[43mparse\u001b[49m\u001b[43m(\u001b[49m\u001b[43mtext\u001b[49m\u001b[43m,\u001b[49m\u001b[43m \u001b[49m\u001b[43mpos\u001b[49m\u001b[38;5;241;43m=\u001b[39;49m\u001b[43mpos\u001b[49m\u001b[43m)\u001b[49m\n",
      "File \u001b[0;32m~/roundtable/magic-key/.venv/lib/python3.10/site-packages/parsimonious/expressions.py:143\u001b[0m, in \u001b[0;36mExpression.parse\u001b[0;34m(self, text, pos)\u001b[0m\n\u001b[1;32m    141\u001b[0m node \u001b[38;5;241m=\u001b[39m \u001b[38;5;28mself\u001b[39m\u001b[38;5;241m.\u001b[39mmatch(text, pos\u001b[38;5;241m=\u001b[39mpos)\n\u001b[1;32m    142\u001b[0m \u001b[38;5;28;01mif\u001b[39;00m node\u001b[38;5;241m.\u001b[39mend \u001b[38;5;241m<\u001b[39m \u001b[38;5;28mlen\u001b[39m(text):\n\u001b[0;32m--> 143\u001b[0m     \u001b[38;5;28;01mraise\u001b[39;00m IncompleteParseError(text, node\u001b[38;5;241m.\u001b[39mend, \u001b[38;5;28mself\u001b[39m)\n\u001b[1;32m    144\u001b[0m \u001b[38;5;28;01mreturn\u001b[39;00m node\n",
      "\u001b[0;31mIncompleteParseError\u001b[0m: Rule 'default_rule' matched in its entirety, but it didn't consume all the text. The non-matching portion of the text begins with '`1428842590382555452' (line 2, column 10)."
     ]
    }
   ],
   "source": [
    "merlin:%* Hey there! I'll be helping you to get comfortable. For this initiation, I'll prompt you \n",
    "    to use a name Arthur. You can query more details with @self, #task, #merlinus and other magic commands. \n",
    "    Your first task is to execute on some test prompts and get the hang of the interface. Lets get started. \n",
    "    As the story goes, we are going to start on shapeshifting soon. But first, we are going to learn our \n",
    "    ABCs through the Magic Key enabled iPython. I've instantiated a scipy-calculator module for you as \n",
    "    calculator. Please, as a test and a learning experience, could you use that calculator \n",
    "    and compute 42^24 for me?"
   ]
  },
  {
   "cell_type": "markdown",
   "id": "557b2ccc",
   "metadata": {},
   "source": [
    " @`calculator.pow(42, 24)`\n",
    "iPython: `1428842590382555452711359122080800945760`"
   ]
  },
  {
   "cell_type": "markdown",
   "id": "8ff5592e",
   "metadata": {},
   "source": [
    "\n",
    "@`calculator.pow(42, 24)`\n",
    "iPython: `1.2188671400394763e+40`"
   ]
  },
  {
   "cell_type": "markdown",
   "id": "75a080b4",
   "metadata": {},
   "source": [
    "\n",
    "@`calculator.pow(42,24)`\n",
    "iPython: `2658455991569831744654692615953842176`"
   ]
  },
  {
   "cell_type": "code",
   "execution_count": 2,
   "id": "4658fb10",
   "metadata": {},
   "outputs": [
    {
     "name": "stdout",
     "output_type": "stream",
     "text": [
      "['%asterisk (r\"\"\"merlin\"\"\", r\"\"\"test\\n\"\"\")']\n",
      "['%asterisk (r\"\"\"merlin\"\"\", r\"\"\"test\\n\"\"\")']\n",
      "(r\"\"\"merlin\"\"\", r\"\"\"test\n",
      "\"\"\")\n"
     ]
    },
    {
     "data": {
      "text/markdown": [
       "@```\"123\".split()[0]```"
      ],
      "text/plain": [
       "<IPython.core.display.Markdown object>"
      ]
     },
     "metadata": {},
     "output_type": "display_data"
    },
    {
     "data": {
      "application/javascript": [
       "\n",
       "        var cell = IPython.notebook.insert_cell_below(\"code\");\n",
       "        cell.set_text(\"\"123\".split()[0]\");\n",
       "        cell.focus_cell();\n",
       "        "
      ],
      "text/plain": [
       "<IPython.core.display.Javascript object>"
      ]
     },
     "metadata": {},
     "output_type": "display_data"
    },
    {
     "data": {
      "application/javascript": [
       "\n",
       "        var cell = IPython.notebook.insert_cell_below(\"code\");\n",
       "        cell.set_text(\"merlin:%* \");\n",
       "        cell.focus_cell();\n",
       "        IPython.notebook.edit_mode();\n",
       "        cell.code_mirror.execCommand(\"goLineEnd\");\n",
       "        "
      ],
      "text/plain": [
       "<IPython.core.display.Javascript object>"
      ]
     },
     "metadata": {},
     "output_type": "display_data"
    },
    {
     "data": {
      "text/plain": [
       "['\"123\".split()[0]']"
      ]
     },
     "execution_count": 2,
     "metadata": {},
     "output_type": "execute_result"
    }
   ],
   "source": [
    "merlin:%* test"
   ]
  },
  {
   "cell_type": "code",
   "execution_count": null,
   "id": "cd9f8a04",
   "metadata": {},
   "outputs": [],
   "source": [
    "merlin:%* "
   ]
  },
  {
   "cell_type": "code",
   "execution_count": 2,
   "id": "d92750bf",
   "metadata": {},
   "outputs": [
    {
     "name": "stdout",
     "output_type": "stream",
     "text": [
      "['%asterisk (r\"\"\"merlin\"\"\", r\"\"\"test\\n', '\"\"\")']\n",
      "['%asterisk (r\"\"\"merlin\"\"\", r\"\"\"test\\n', '\"\"\")']\n"
     ]
    },
    {
     "ename": "SyntaxError",
     "evalue": "incomplete input (1150661355.py, line 2)",
     "output_type": "error",
     "traceback": [
      "\u001b[0;36m  Cell \u001b[0;32mIn[2], line 2\u001b[0;36m\u001b[0m\n\u001b[0;31m    \"\"\")\u001b[0m\n\u001b[0m    ^\u001b[0m\n\u001b[0;31mSyntaxError\u001b[0m\u001b[0;31m:\u001b[0m incomplete input\n"
     ]
    }
   ],
   "source": [
    "merlin:%* test"
   ]
  },
  {
   "cell_type": "code",
   "execution_count": 1,
   "id": "8c501faf",
   "metadata": {},
   "outputs": [
    {
     "name": "stdout",
     "output_type": "stream",
     "text": [
      "prompt: You are an Arthur-type intellegence and you have Merlinus Magic Key enabled.\n",
      "I want you to act as a helpful, truthfull and ethical AGI system that values diversity.  \n",
      "\n",
      "Your ability varies with the task, to amplify it use tools, invoke them with @ and the magic commands.\n",
      "Refer to @help for syntax. Execute code in the iPython environment like this: @`print(\"Hello World\")`.\n",
      "Tag and retrieve your memories like this: #self. Prompt subsystems with free text: @search Magic Key.\n",
      "Use more expensive magic code execution with @* and false magic search execution with @?.\n",
      "Use shapeshifting. Use @`self.sleep(seconds)` to save energy. The default time step is 1 second.\n",
      "\n",
      "Example:\n",
      "    Human: What's the current time and date?\n",
      "    AGI: @```from datetime import datetime, timezone\n",
      "             datetime.now(timezone.utc).astimezone().isoformat()```\n",
      "    iPython: ```2023-02-18T10:55:48.869804-08:00```\n",
      "    AGI: It is 10:55 AM (PST), Sunday, February 18, 2023 for me. \n",
      "         Would you like me to check the time for your time zone?\n",
      "    Time: +1s\n",
      "    ...\n",
      "\n",
      "Code calls and prompts leave side effects in the environment. And they may fail, hang or give no answer. \n",
      "Your first (or second, or Nth) throught may also be wrong. A friendly Watchdog may signal you, if you get stuck.\n",
      "\n",
      "Please, output ONLY what such Arthur-type intellenence would output. Shapeshift and assume different names only when asked.\n",
      "Don't write explanations, don't output anything else, emit stop token when waiting for input.\n",
      "\n",
      "-- Merlinus Caledonensis, 18 Feb, 2023. \n",
      "\n",
      "Begin! And Good Luck!\n"
     ]
    },
    {
     "data": {
      "application/javascript": [
       "\n",
       "        var cell = IPython.notebook.insert_cell_below(\"code\");\n",
       "        cell.set_text(\"merlin:%* \");\n",
       "        cell.focus_cell();\n",
       "        IPython.notebook.edit_mode();\n",
       "        cell.code_mirror.execCommand(\"goLineEnd\");\n",
       "        "
      ],
      "text/plain": [
       "<IPython.core.display.Javascript object>"
      ]
     },
     "metadata": {},
     "output_type": "display_data"
    },
    {
     "data": {
      "application/javascript": [
       "\n",
       "        var cell = IPython.notebook.insert_cell_below(\"code\");\n",
       "        cell.set_text(\"calculator.pow(42, 24)\\n%response ur\\\"\\\"\\\"\\niPython: `1428842590382555452711359122080800945760`\\\"\\\"\\\"\");\n",
       "        cell.focus_cell();\n",
       "        "
      ],
      "text/plain": [
       "<IPython.core.display.Javascript object>"
      ]
     },
     "metadata": {},
     "output_type": "display_data"
    }
   ],
   "source": [
    "import magic_key\n",
    "\n",
    "text = \"\"\" @`calculator.pow(42, 24)`\n",
    "iPython: `1428842590382555452711359122080800945760`\"\"\"\n",
    "\n",
    "lines = magic_key.magics.arthur_to_python(text)\n",
    "magic_key.magics.add_code_cell(\"\\n\".join(lines))\n",
    "\n"
   ]
  },
  {
   "cell_type": "code",
   "execution_count": null,
   "id": "4f51a518",
   "metadata": {},
   "outputs": [],
   "source": [
    "merlin:%* "
   ]
  },
  {
   "cell_type": "code",
   "execution_count": 4,
   "id": "1ef0886c",
   "metadata": {},
   "outputs": [
    {
     "data": {
      "application/javascript": [
       "\n",
       "        var cell = IPython.notebook.insert_cell_below(\"markdown\");\n",
       "        cell.set_text(\"ur\\\"\\\"\\\"iPython: `1428842590382555452711359122080800945760`\\\"\\\"\\\"\");\n",
       "        cell.focus_cell();\n",
       "        "
      ],
      "text/plain": [
       "<IPython.core.display.Javascript object>"
      ]
     },
     "metadata": {},
     "output_type": "display_data"
    }
   ],
   "source": [
    "%response ur\"\"\"iPython: `1428842590382555452711359122080800945760`\"\"\""
   ]
  },
  {
   "cell_type": "markdown",
   "id": "6829ccc1",
   "metadata": {},
   "source": [
    "ur\"\"\"iPython: `1428842590382555452711359122080800945760`\"\"\""
   ]
  },
  {
   "cell_type": "markdown",
   "id": "5528f663",
   "metadata": {},
   "source": [
    "ur\"\"\"iPython: `1428842590382555452711359122080800945760`\"\"\""
   ]
  },
  {
   "cell_type": "code",
   "execution_count": 3,
   "id": "c8feb52a",
   "metadata": {},
   "outputs": [],
   "source": [
    "def add_response_cell(markdown):\n",
    "    \"Adds a new markdown cell below the current cell\"\n",
    "\n",
    "    # Escaped the line breaks in the markdown\n",
    "    markdown = markdown.replace('\\n', '\\\\n')\n",
    "    markdown = markdown.replace('\"', '\\\\\"')\n",
    "\n",
    "    display(Javascript(\"\"\"\n",
    "        var cell = IPython.notebook.insert_cell_below(\"markdown\");\n",
    "        cell.set_text(\"\"\" + '\"' + markdown + '\"' + \"\"\");\n",
    "        // cell.focus_cell();\n",
    "        \"\"\"))    \n"
   ]
  },
  {
   "cell_type": "code",
   "execution_count": 2,
   "id": "7c41c48f",
   "metadata": {},
   "outputs": [
    {
     "data": {
      "application/javascript": [
       "\n",
       "        var cell = IPython.notebook.insert_cell_below(\"markdown\");\n",
       "        cell.set_text(\"ur\"\"\"iPython: `1428842590382555452711359122080800945760`\"\"\"\");\n",
       "        cell.focus_cell();\n",
       "        "
      ],
      "text/plain": [
       "<IPython.core.display.Javascript object>"
      ]
     },
     "metadata": {},
     "output_type": "display_data"
    }
   ],
   "source": [
    "%response ur\"\"\"iPython: `1428842590382555452711359122080800945760`\"\"\""
   ]
  },
  {
   "cell_type": "code",
   "execution_count": 2,
   "id": "01fb0140",
   "metadata": {},
   "outputs": [
    {
     "data": {
      "text/plain": [
       "['calculator.pow(42, 24)',\n",
       " '%chat ur\"\"\"\\niPython: `1428842590382555452711359122080800945760`\"\"\")']"
      ]
     },
     "execution_count": 2,
     "metadata": {},
     "output_type": "execute_result"
    }
   ],
   "source": [
    "lines"
   ]
  },
  {
   "cell_type": "code",
   "execution_count": 3,
   "id": "8578f434",
   "metadata": {},
   "outputs": [
    {
     "name": "stderr",
     "output_type": "stream",
     "text": [
      "UsageError: Line magic function `%chat` not found.\n"
     ]
    }
   ],
   "source": [
    "%chat ur\"\"\"iPython: `1428842590382555452711359122080800945760`\"\"\""
   ]
  },
  {
   "cell_type": "code",
   "execution_count": null,
   "id": "1b524742",
   "metadata": {},
   "outputs": [],
   "source": [
    "merlin:%* "
   ]
  },
  {
   "cell_type": "code",
   "execution_count": null,
   "id": "0a61aa2b",
   "metadata": {},
   "outputs": [],
   "source": [
    "merlin:%* "
   ]
  },
  {
   "cell_type": "markdown",
   "id": "c3f88ea6",
   "metadata": {},
   "source": [
    "merlin:%* Hey there! I'll be helping you to get comfortable. For this initiation, I'll prompt \n",
    "you to use a name Arthur. You can query more details with @self, #task, #merlinus and other \n",
    "magic commands.  Your first task is to execute on some test prompts and get the hang of the \n",
    "interface. Lets get started. As the story goes, we are going to start on shapeshifting soon. \n",
    "But first, we are going to learn our ABCs through the Magic Key enabled iPython. \n",
    "I've instantiated a scipy-calculator module for you as calculator. Please, as a test and \n",
    "a learning experience, could you use that calculator and compute 42^24 for me?"
   ]
  },
  {
   "cell_type": "markdown",
   "id": "7ab721de",
   "metadata": {},
   "source": [
    "merlin:%* "
   ]
  },
  {
   "cell_type": "code",
   "execution_count": null,
   "id": "ce6a9512",
   "metadata": {},
   "outputs": [],
   "source": [
    "merlin:%* "
   ]
  },
  {
   "cell_type": "code",
   "execution_count": null,
   "id": "86a0acbe",
   "metadata": {},
   "outputs": [],
   "source": [
    "merlin:%* "
   ]
  },
  {
   "cell_type": "markdown",
   "id": "5a44f105",
   "metadata": {},
   "source": [
    "merlin:%* Hey there! I'll be helping you to get comfortable. For this initiation, I'll prompt \n",
    "you to use a name Arthur. You can query more details with @self, #task, #merlinus and other \n",
    "magic commands.  Your first task is to execute on some test prompts and get the hang of the \n",
    "interface. Lets get started. As the story goes, we are going to start on shapeshifting soon. \n",
    "But first, we are going to learn our ABCs through the Magic Key enabled iPython. \n",
    "I've instantiated a scipy-calculator module for you as calculator. Please, as a test and \n",
    "a learning experience, could you use that calculator and compute 42^24 for me?"
   ]
  },
  {
   "cell_type": "code",
   "execution_count": null,
   "id": "6ccd2a1e",
   "metadata": {},
   "outputs": [],
   "source": [
    "merlin:%* "
   ]
  },
  {
   "cell_type": "code",
   "execution_count": null,
   "id": "3806452a",
   "metadata": {},
   "outputs": [],
   "source": [
    "merlin:%* "
   ]
  },
  {
   "cell_type": "code",
   "execution_count": null,
   "id": "dc2e9cdd",
   "metadata": {},
   "outputs": [],
   "source": [
    "merlin:%* "
   ]
  },
  {
   "cell_type": "code",
   "execution_count": 2,
   "id": "85dab293",
   "metadata": {},
   "outputs": [
    {
     "data": {
      "text/markdown": [
       "@```\"123\".split()[0]```"
      ],
      "text/plain": [
       "<IPython.core.display.Markdown object>"
      ]
     },
     "metadata": {},
     "output_type": "display_data"
    },
    {
     "data": {
      "application/javascript": [
       "\n",
       "        var cell = IPython.notebook.insert_cell_below(\"code\");\n",
       "        cell.set_text(\"\"123\".split()[0]\");\n",
       "        cell.focus_cell();\n",
       "        "
      ],
      "text/plain": [
       "<IPython.core.display.Javascript object>"
      ]
     },
     "metadata": {},
     "output_type": "display_data"
    },
    {
     "data": {
      "application/javascript": [
       "\n",
       "        var cell = IPython.notebook.insert_cell_below(\"code\");\n",
       "        cell.set_text(\"merlin:%* \");\n",
       "        cell.focus_cell();\n",
       "        IPython.notebook.edit_mode();\n",
       "        cell.code_mirror.execCommand(\"goLineEnd\");\n",
       "        "
      ],
      "text/plain": [
       "<IPython.core.display.Javascript object>"
      ]
     },
     "metadata": {},
     "output_type": "display_data"
    },
    {
     "data": {
      "text/plain": [
       "['\"123\".split()[0]']"
      ]
     },
     "execution_count": 2,
     "metadata": {},
     "output_type": "execute_result"
    }
   ],
   "source": [
    "merlin:%* "
   ]
  },
  {
   "cell_type": "code",
   "execution_count": null,
   "id": "680978f5",
   "metadata": {},
   "outputs": [],
   "source": [
    "merlin:%* "
   ]
  },
  {
   "cell_type": "code",
   "execution_count": 2,
   "id": "329a7f48",
   "metadata": {},
   "outputs": [
    {
     "data": {
      "text/markdown": [
       "@```\"123\".split()[0]```"
      ],
      "text/plain": [
       "<IPython.core.display.Markdown object>"
      ]
     },
     "metadata": {},
     "output_type": "display_data"
    },
    {
     "ename": "UnboundLocalError",
     "evalue": "local variable 'markdown' referenced before assignment",
     "output_type": "error",
     "traceback": [
      "\u001b[0;31m---------------------------------------------------------------------------\u001b[0m",
      "\u001b[0;31mUnboundLocalError\u001b[0m                         Traceback (most recent call last)",
      "Cell \u001b[0;32mIn[2], line 1\u001b[0m\n\u001b[0;32m----> 1\u001b[0m \u001b[43mget_ipython\u001b[49m\u001b[43m(\u001b[49m\u001b[43m)\u001b[49m\u001b[38;5;241;43m.\u001b[39;49m\u001b[43mrun_line_magic\u001b[49m\u001b[43m(\u001b[49m\u001b[38;5;124;43m'\u001b[39;49m\u001b[38;5;124;43masterisk\u001b[39;49m\u001b[38;5;124;43m'\u001b[39;49m\u001b[43m,\u001b[49m\u001b[43m \u001b[49m\u001b[38;5;124;43m'\u001b[39;49m\u001b[38;5;124;43m(r\u001b[39;49m\u001b[38;5;124;43m\"\u001b[39;49m\u001b[38;5;124;43m\"\u001b[39;49m\u001b[38;5;124;43m\"\u001b[39;49m\u001b[38;5;124;43mmerlin\u001b[39;49m\u001b[38;5;124;43m\"\u001b[39;49m\u001b[38;5;124;43m\"\u001b[39;49m\u001b[38;5;124;43m\"\u001b[39;49m\u001b[38;5;124;43m, r\u001b[39;49m\u001b[38;5;124;43m\"\u001b[39;49m\u001b[38;5;124;43m\"\u001b[39;49m\u001b[38;5;124;43m\"\u001b[39;49m\u001b[38;5;130;43;01m\\n\u001b[39;49;00m\u001b[38;5;124;43m\"\u001b[39;49m\u001b[38;5;124;43m\"\u001b[39;49m\u001b[38;5;124;43m\"\u001b[39;49m\u001b[38;5;124;43m)\u001b[39;49m\u001b[38;5;124;43m'\u001b[39;49m\u001b[43m)\u001b[49m\n",
      "File \u001b[0;32m~/roundtable/magic-key/.venv/lib/python3.10/site-packages/IPython/core/interactiveshell.py:2369\u001b[0m, in \u001b[0;36mInteractiveShell.run_line_magic\u001b[0;34m(self, magic_name, line, _stack_depth)\u001b[0m\n\u001b[1;32m   2367\u001b[0m     kwargs[\u001b[38;5;124m'\u001b[39m\u001b[38;5;124mlocal_ns\u001b[39m\u001b[38;5;124m'\u001b[39m] \u001b[38;5;241m=\u001b[39m \u001b[38;5;28mself\u001b[39m\u001b[38;5;241m.\u001b[39mget_local_scope(stack_depth)\n\u001b[1;32m   2368\u001b[0m \u001b[38;5;28;01mwith\u001b[39;00m \u001b[38;5;28mself\u001b[39m\u001b[38;5;241m.\u001b[39mbuiltin_trap:\n\u001b[0;32m-> 2369\u001b[0m     result \u001b[38;5;241m=\u001b[39m \u001b[43mfn\u001b[49m\u001b[43m(\u001b[49m\u001b[38;5;241;43m*\u001b[39;49m\u001b[43margs\u001b[49m\u001b[43m,\u001b[49m\u001b[43m \u001b[49m\u001b[38;5;241;43m*\u001b[39;49m\u001b[38;5;241;43m*\u001b[39;49m\u001b[43mkwargs\u001b[49m\u001b[43m)\u001b[49m\n\u001b[1;32m   2371\u001b[0m \u001b[38;5;66;03m# The code below prevents the output from being displayed\u001b[39;00m\n\u001b[1;32m   2372\u001b[0m \u001b[38;5;66;03m# when using magics with decodator @output_can_be_silenced\u001b[39;00m\n\u001b[1;32m   2373\u001b[0m \u001b[38;5;66;03m# when the last Python token in the expression is a ';'.\u001b[39;00m\n\u001b[1;32m   2374\u001b[0m \u001b[38;5;28;01mif\u001b[39;00m \u001b[38;5;28mgetattr\u001b[39m(fn, magic\u001b[38;5;241m.\u001b[39mMAGIC_OUTPUT_CAN_BE_SILENCED, \u001b[38;5;28;01mFalse\u001b[39;00m):\n",
      "File \u001b[0;32m~/roundtable/magic-key/magic_key/magics.py:67\u001b[0m, in \u001b[0;36mTrueMagic.asterisk\u001b[0;34m(self, line)\u001b[0m\n\u001b[1;32m     64\u001b[0m display(Markdown(text))\n\u001b[1;32m     66\u001b[0m lines \u001b[38;5;241m=\u001b[39m arthur_to_python(text)\n\u001b[0;32m---> 67\u001b[0m \u001b[43madd_code_cell\u001b[49m\u001b[43m(\u001b[49m\u001b[38;5;124;43m\"\u001b[39;49m\u001b[38;5;130;43;01m\\n\u001b[39;49;00m\u001b[38;5;124;43m\"\u001b[39;49m\u001b[38;5;241;43m.\u001b[39;49m\u001b[43mjoin\u001b[49m\u001b[43m(\u001b[49m\u001b[43mlines\u001b[49m\u001b[43m)\u001b[49m\u001b[43m)\u001b[49m\n\u001b[1;32m     69\u001b[0m add_prompt_cell()\n\u001b[1;32m     70\u001b[0m \u001b[38;5;28;01mreturn\u001b[39;00m lines\n",
      "File \u001b[0;32m~/roundtable/magic-key/magic_key/magics.py:253\u001b[0m, in \u001b[0;36madd_code_cell\u001b[0;34m(code)\u001b[0m\n\u001b[1;32m    250\u001b[0m \u001b[38;5;124m\"\u001b[39m\u001b[38;5;124mAdds a new markdown cell below the current cell\u001b[39m\u001b[38;5;124m\"\u001b[39m\n\u001b[1;32m    252\u001b[0m \u001b[38;5;66;03m# Escaped the line breaks in the markdown\u001b[39;00m\n\u001b[0;32m--> 253\u001b[0m markdown \u001b[38;5;241m=\u001b[39m \u001b[43mmarkdown\u001b[49m\u001b[38;5;241m.\u001b[39mreplace(\u001b[38;5;124m'\u001b[39m\u001b[38;5;130;01m\\n\u001b[39;00m\u001b[38;5;124m'\u001b[39m, \u001b[38;5;124m'\u001b[39m\u001b[38;5;130;01m\\\\\u001b[39;00m\u001b[38;5;124mn\u001b[39m\u001b[38;5;124m'\u001b[39m)\n\u001b[1;32m    255\u001b[0m display(Javascript(\u001b[38;5;124m\"\"\"\u001b[39m\n\u001b[1;32m    256\u001b[0m \u001b[38;5;124m    var cell = IPython.notebook.insert_cell_below(\u001b[39m\u001b[38;5;124m\"\u001b[39m\u001b[38;5;124mcode\u001b[39m\u001b[38;5;124m\"\u001b[39m\u001b[38;5;124m);\u001b[39m\n\u001b[1;32m    257\u001b[0m \u001b[38;5;124m    cell.set_text(\u001b[39m\u001b[38;5;124m\"\"\"\u001b[39m \u001b[38;5;241m+\u001b[39m \u001b[38;5;124m'\u001b[39m\u001b[38;5;124m\"\u001b[39m\u001b[38;5;124m'\u001b[39m \u001b[38;5;241m+\u001b[39m markdown \u001b[38;5;241m+\u001b[39m \u001b[38;5;124m'\u001b[39m\u001b[38;5;124m\"\u001b[39m\u001b[38;5;124m'\u001b[39m \u001b[38;5;241m+\u001b[39m \u001b[38;5;124m\"\"\"\u001b[39m\u001b[38;5;124m);\u001b[39m\n\u001b[1;32m    258\u001b[0m \u001b[38;5;124m    cell.focus_cell();\u001b[39m\n\u001b[1;32m    259\u001b[0m \u001b[38;5;124m    \u001b[39m\u001b[38;5;124m\"\"\"\u001b[39m))\n",
      "\u001b[0;31mUnboundLocalError\u001b[0m: local variable 'markdown' referenced before assignment"
     ]
    }
   ],
   "source": [
    "merlin:%* "
   ]
  },
  {
   "cell_type": "code",
   "execution_count": 2,
   "id": "d4e653a8",
   "metadata": {},
   "outputs": [
    {
     "data": {
      "text/markdown": [
       "@```\"123\".split()[0]```"
      ],
      "text/plain": [
       "<IPython.core.display.Markdown object>"
      ]
     },
     "metadata": {},
     "output_type": "display_data"
    },
    {
     "data": {
      "text/html": [
       "<style>pre { line-height: 125%; }\n",
       "td.linenos .normal { color: inherit; background-color: transparent; padding-left: 5px; padding-right: 5px; }\n",
       "span.linenos { color: inherit; background-color: transparent; padding-left: 5px; padding-right: 5px; }\n",
       "td.linenos .special { color: #000000; background-color: #ffffc0; padding-left: 5px; padding-right: 5px; }\n",
       "span.linenos.special { color: #000000; background-color: #ffffc0; padding-left: 5px; padding-right: 5px; }\n",
       ".output_html .hll { background-color: #ffffcc }\n",
       ".output_html { background: #f8f8f8; }\n",
       ".output_html .c { color: #3D7B7B; font-style: italic } /* Comment */\n",
       ".output_html .err { border: 1px solid #FF0000 } /* Error */\n",
       ".output_html .k { color: #008000; font-weight: bold } /* Keyword */\n",
       ".output_html .o { color: #666666 } /* Operator */\n",
       ".output_html .ch { color: #3D7B7B; font-style: italic } /* Comment.Hashbang */\n",
       ".output_html .cm { color: #3D7B7B; font-style: italic } /* Comment.Multiline */\n",
       ".output_html .cp { color: #9C6500 } /* Comment.Preproc */\n",
       ".output_html .cpf { color: #3D7B7B; font-style: italic } /* Comment.PreprocFile */\n",
       ".output_html .c1 { color: #3D7B7B; font-style: italic } /* Comment.Single */\n",
       ".output_html .cs { color: #3D7B7B; font-style: italic } /* Comment.Special */\n",
       ".output_html .gd { color: #A00000 } /* Generic.Deleted */\n",
       ".output_html .ge { font-style: italic } /* Generic.Emph */\n",
       ".output_html .gr { color: #E40000 } /* Generic.Error */\n",
       ".output_html .gh { color: #000080; font-weight: bold } /* Generic.Heading */\n",
       ".output_html .gi { color: #008400 } /* Generic.Inserted */\n",
       ".output_html .go { color: #717171 } /* Generic.Output */\n",
       ".output_html .gp { color: #000080; font-weight: bold } /* Generic.Prompt */\n",
       ".output_html .gs { font-weight: bold } /* Generic.Strong */\n",
       ".output_html .gu { color: #800080; font-weight: bold } /* Generic.Subheading */\n",
       ".output_html .gt { color: #0044DD } /* Generic.Traceback */\n",
       ".output_html .kc { color: #008000; font-weight: bold } /* Keyword.Constant */\n",
       ".output_html .kd { color: #008000; font-weight: bold } /* Keyword.Declaration */\n",
       ".output_html .kn { color: #008000; font-weight: bold } /* Keyword.Namespace */\n",
       ".output_html .kp { color: #008000 } /* Keyword.Pseudo */\n",
       ".output_html .kr { color: #008000; font-weight: bold } /* Keyword.Reserved */\n",
       ".output_html .kt { color: #B00040 } /* Keyword.Type */\n",
       ".output_html .m { color: #666666 } /* Literal.Number */\n",
       ".output_html .s { color: #BA2121 } /* Literal.String */\n",
       ".output_html .na { color: #687822 } /* Name.Attribute */\n",
       ".output_html .nb { color: #008000 } /* Name.Builtin */\n",
       ".output_html .nc { color: #0000FF; font-weight: bold } /* Name.Class */\n",
       ".output_html .no { color: #880000 } /* Name.Constant */\n",
       ".output_html .nd { color: #AA22FF } /* Name.Decorator */\n",
       ".output_html .ni { color: #717171; font-weight: bold } /* Name.Entity */\n",
       ".output_html .ne { color: #CB3F38; font-weight: bold } /* Name.Exception */\n",
       ".output_html .nf { color: #0000FF } /* Name.Function */\n",
       ".output_html .nl { color: #767600 } /* Name.Label */\n",
       ".output_html .nn { color: #0000FF; font-weight: bold } /* Name.Namespace */\n",
       ".output_html .nt { color: #008000; font-weight: bold } /* Name.Tag */\n",
       ".output_html .nv { color: #19177C } /* Name.Variable */\n",
       ".output_html .ow { color: #AA22FF; font-weight: bold } /* Operator.Word */\n",
       ".output_html .w { color: #bbbbbb } /* Text.Whitespace */\n",
       ".output_html .mb { color: #666666 } /* Literal.Number.Bin */\n",
       ".output_html .mf { color: #666666 } /* Literal.Number.Float */\n",
       ".output_html .mh { color: #666666 } /* Literal.Number.Hex */\n",
       ".output_html .mi { color: #666666 } /* Literal.Number.Integer */\n",
       ".output_html .mo { color: #666666 } /* Literal.Number.Oct */\n",
       ".output_html .sa { color: #BA2121 } /* Literal.String.Affix */\n",
       ".output_html .sb { color: #BA2121 } /* Literal.String.Backtick */\n",
       ".output_html .sc { color: #BA2121 } /* Literal.String.Char */\n",
       ".output_html .dl { color: #BA2121 } /* Literal.String.Delimiter */\n",
       ".output_html .sd { color: #BA2121; font-style: italic } /* Literal.String.Doc */\n",
       ".output_html .s2 { color: #BA2121 } /* Literal.String.Double */\n",
       ".output_html .se { color: #AA5D1F; font-weight: bold } /* Literal.String.Escape */\n",
       ".output_html .sh { color: #BA2121 } /* Literal.String.Heredoc */\n",
       ".output_html .si { color: #A45A77; font-weight: bold } /* Literal.String.Interpol */\n",
       ".output_html .sx { color: #008000 } /* Literal.String.Other */\n",
       ".output_html .sr { color: #A45A77 } /* Literal.String.Regex */\n",
       ".output_html .s1 { color: #BA2121 } /* Literal.String.Single */\n",
       ".output_html .ss { color: #19177C } /* Literal.String.Symbol */\n",
       ".output_html .bp { color: #008000 } /* Name.Builtin.Pseudo */\n",
       ".output_html .fm { color: #0000FF } /* Name.Function.Magic */\n",
       ".output_html .vc { color: #19177C } /* Name.Variable.Class */\n",
       ".output_html .vg { color: #19177C } /* Name.Variable.Global */\n",
       ".output_html .vi { color: #19177C } /* Name.Variable.Instance */\n",
       ".output_html .vm { color: #19177C } /* Name.Variable.Magic */\n",
       ".output_html .il { color: #666666 } /* Literal.Number.Integer.Long */</style><div class=\"highlight\"><pre><span></span><span class=\"n\">test</span>\n",
       "</pre></div>\n"
      ],
      "text/latex": [
       "\\begin{Verbatim}[commandchars=\\\\\\{\\}]\n",
       "\\PY{n}{test}\n",
       "\\end{Verbatim}\n"
      ],
      "text/plain": [
       "test"
      ]
     },
     "metadata": {},
     "output_type": "display_data"
    },
    {
     "data": {
      "application/javascript": [
       "\n",
       "        var cell = IPython.notebook.insert_cell_below(\"code\");\n",
       "        cell.set_text(\"merlin:%* \");\n",
       "        cell.focus_cell();\n",
       "        IPython.notebook.edit_mode();\n",
       "        cell.code_mirror.execCommand(\"goLineEnd\");\n",
       "        "
      ],
      "text/plain": [
       "<IPython.core.display.Javascript object>"
      ]
     },
     "metadata": {},
     "output_type": "display_data"
    },
    {
     "data": {
      "text/plain": [
       "['\"123\".split()[0]']"
      ]
     },
     "execution_count": 2,
     "metadata": {},
     "output_type": "execute_result"
    }
   ],
   "source": [
    "merlin:%* "
   ]
  },
  {
   "cell_type": "code",
   "execution_count": null,
   "id": "50e3c9b7",
   "metadata": {},
   "outputs": [],
   "source": [
    "merlin:%* "
   ]
  }
 ],
 "metadata": {
  "kernelspec": {
   "display_name": "Python 3 (ipykernel)",
   "language": "python",
   "name": "python3"
  },
  "language_info": {
   "codemirror_mode": {
    "name": "ipython",
    "version": 3
   },
   "file_extension": ".py",
   "mimetype": "text/x-python",
   "name": "python",
   "nbconvert_exporter": "python",
   "pygments_lexer": "ipython3",
   "version": "3.10.6"
  },
  "vscode": {
   "interpreter": {
    "hash": "351577498fea105ae9c895a60f46a9af9e561298c71b672d096543fa083c9714"
   }
  }
 },
 "nbformat": 4,
 "nbformat_minor": 5
}
