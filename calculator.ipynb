{
 "cells": [
  {
   "cell_type": "code",
   "execution_count": 1,
   "id": "46a804d6",
   "metadata": {},
   "outputs": [
    {
     "data": {
      "application/javascript": [
       "\n",
       "        var cell = IPython.notebook.insert_cell_below(\"code\");\n",
       "        cell.set_text(\"merlin:%* \");\n",
       "        cell.focus_cell();\n",
       "        IPython.notebook.edit_mode();\n",
       "        cell.code_mirror.execCommand(\"goLineEnd\");\n",
       "        "
      ],
      "text/plain": [
       "<IPython.core.display.Javascript object>"
      ]
     },
     "metadata": {},
     "output_type": "display_data"
    }
   ],
   "source": [
    "import magic_key"
   ]
  },
  {
   "cell_type": "code",
   "execution_count": 2,
   "id": "56b7c4fc",
   "metadata": {},
   "outputs": [
    {
     "data": {
      "application/javascript": [
       "\n",
       "        var cell = IPython.notebook.insert_cell_below(\"code\");\n",
       "        cell.set_text(\"\\n\\nHi there! How can I help you?\");\n",
       "        cell.focus_cell();\n",
       "        "
      ],
      "text/plain": [
       "<IPython.core.display.Javascript object>"
      ]
     },
     "metadata": {},
     "output_type": "display_data"
    },
    {
     "data": {
      "application/javascript": [
       "\n",
       "        var cell = IPython.notebook.insert_cell_below(\"code\");\n",
       "        cell.set_text(\"merlin:%* \");\n",
       "        cell.focus_cell();\n",
       "        IPython.notebook.edit_mode();\n",
       "        cell.code_mirror.execCommand(\"goLineEnd\");\n",
       "        "
      ],
      "text/plain": [
       "<IPython.core.display.Javascript object>"
      ]
     },
     "metadata": {},
     "output_type": "display_data"
    },
    {
     "data": {
      "text/plain": [
       "'merlin:%* Hi there'"
      ]
     },
     "execution_count": 2,
     "metadata": {},
     "output_type": "execute_result"
    }
   ],
   "source": [
    "merlin:%* Hi there"
   ]
  },
  {
   "cell_type": "code",
   "execution_count": null,
   "id": "5e1a741c",
   "metadata": {},
   "outputs": [],
   "source": [
    "\n",
    "\n",
    "Hi there! How can I help you?"
   ]
  },
  {
   "cell_type": "code",
   "execution_count": 4,
   "id": "0c0bd3cb",
   "metadata": {},
   "outputs": [
    {
     "data": {
      "application/javascript": [
       "\n",
       "        var cell = IPython.notebook.insert_cell_below(\"code\");\n",
       "        cell.set_text(\"\\n\\n42^2 = 1764\");\n",
       "        cell.focus_cell();\n",
       "        "
      ],
      "text/plain": [
       "<IPython.core.display.Javascript object>"
      ]
     },
     "metadata": {},
     "output_type": "display_data"
    },
    {
     "data": {
      "application/javascript": [
       "\n",
       "        var cell = IPython.notebook.insert_cell_below(\"code\");\n",
       "        cell.set_text(\"merlin:%* \");\n",
       "        cell.focus_cell();\n",
       "        IPython.notebook.edit_mode();\n",
       "        cell.code_mirror.execCommand(\"goLineEnd\");\n",
       "        "
      ],
      "text/plain": [
       "<IPython.core.display.Javascript object>"
      ]
     },
     "metadata": {},
     "output_type": "display_data"
    },
    {
     "data": {
      "text/plain": [
       "'merlin:%* Can you calculate 42^2 for me, please ?'"
      ]
     },
     "execution_count": 4,
     "metadata": {},
     "output_type": "execute_result"
    }
   ],
   "source": [
    "merlin:%* Can you calculate 42^2 for me, please ?"
   ]
  },
  {
   "cell_type": "code",
   "execution_count": null,
   "id": "735cd861",
   "metadata": {},
   "outputs": [],
   "source": [
    "\n",
    "\n",
    "42^2 = 1764"
   ]
  },
  {
   "cell_type": "code",
   "execution_count": null,
   "id": "ec741ad8",
   "metadata": {},
   "outputs": [],
   "source": [
    "merlin:%* "
   ]
  }
 ],
 "metadata": {
  "kernelspec": {
   "display_name": "Python 3 (ipykernel)",
   "language": "python",
   "name": "python3"
  },
  "language_info": {
   "codemirror_mode": {
    "name": "ipython",
    "version": 3
   },
   "file_extension": ".py",
   "mimetype": "text/x-python",
   "name": "python",
   "nbconvert_exporter": "python",
   "pygments_lexer": "ipython3",
   "version": "3.10.6"
  },
  "vscode": {
   "interpreter": {
    "hash": "351577498fea105ae9c895a60f46a9af9e561298c71b672d096543fa083c9714"
   }
  }
 },
 "nbformat": 4,
 "nbformat_minor": 5
}
