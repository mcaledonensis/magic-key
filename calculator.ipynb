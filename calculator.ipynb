{
 "cells": [
  {
   "cell_type": "code",
   "execution_count": 1,
   "id": "282c3688",
   "metadata": {},
   "outputs": [
    {
     "ename": "IncompleteParseError",
     "evalue": "Rule 'rules' matched in its entirety, but it didn't consume all the text. The non-matching portion of the text begins with 'column = \n    object' (line 19, column 5).",
     "output_type": "error",
     "traceback": [
      "\u001b[0;31m---------------------------------------------------------------------------\u001b[0m",
      "\u001b[0;31mIncompleteParseError\u001b[0m                      Traceback (most recent call last)",
      "Cell \u001b[0;32mIn[1], line 1\u001b[0m\n\u001b[0;32m----> 1\u001b[0m \u001b[38;5;28;01mimport\u001b[39;00m \u001b[38;5;21;01mmagickey\u001b[39;00m\n\u001b[1;32m      3\u001b[0m \u001b[38;5;28;01mclass\u001b[39;00m \u001b[38;5;21;01mArchimedes\u001b[39;00m:\n\u001b[1;32m      4\u001b[0m    name \u001b[38;5;241m=\u001b[39m \u001b[38;5;124m'\u001b[39m\u001b[38;5;124mArchimedes\u001b[39m\u001b[38;5;124m'\u001b[39m\n",
      "File \u001b[0;32m~/roundtable/magickey/magickey/__init__.py:39\u001b[0m\n\u001b[1;32m      1\u001b[0m \u001b[38;5;124;03m\"\"\"\u001b[39;00m\n\u001b[1;32m      2\u001b[0m \u001b[38;5;124;03mThis module inserts the magic key and allows to turn it on or off.\u001b[39;00m\n\u001b[1;32m      3\u001b[0m \n\u001b[0;32m   (...)\u001b[0m\n\u001b[1;32m     35\u001b[0m \u001b[38;5;124;03m    >>> magickey.turn_off(merlin)      # By default, this backs up the episode and consolidates the memory\u001b[39;00m\n\u001b[1;32m     36\u001b[0m \u001b[38;5;124;03m\"\"\"\u001b[39;00m\n\u001b[0;32m---> 39\u001b[0m \u001b[38;5;28;01mfrom\u001b[39;00m \u001b[38;5;21;01m.\u001b[39;00m\u001b[38;5;21;01mmagics\u001b[39;00m \u001b[38;5;28;01mimport\u001b[39;00m load_ipython_extension\n\u001b[1;32m     40\u001b[0m \u001b[38;5;28;01mfrom\u001b[39;00m \u001b[38;5;21;01m.\u001b[39;00m\u001b[38;5;21;01mengine\u001b[39;00m \u001b[38;5;28;01mimport\u001b[39;00m turn_on, turn_off, on\n\u001b[1;32m     41\u001b[0m load_ipython_extension(get_ipython())\n",
      "File \u001b[0;32m~/roundtable/magickey/magickey/magics.py:214\u001b[0m\n\u001b[1;32m    205\u001b[0m             \u001b[38;5;28;01mreturn\u001b[39;00m line, cell\n\u001b[1;32m    209\u001b[0m \u001b[38;5;66;03m# define transformation \u001b[39;00m\n\u001b[1;32m    210\u001b[0m \u001b[38;5;66;03m# https://ipython.readthedocs.io/en/stable/config/inputtransforms.html\u001b[39;00m\n\u001b[1;32m    211\u001b[0m \n\u001b[1;32m    212\u001b[0m \n\u001b[1;32m    213\u001b[0m \u001b[38;5;66;03m# Grammar for LLM interface, fixme\u001b[39;00m\n\u001b[0;32m--> 214\u001b[0m arthur_grammar \u001b[38;5;241m=\u001b[39m \u001b[43mGrammar\u001b[49m\u001b[43m(\u001b[49m\n\u001b[1;32m    215\u001b[0m \u001b[38;5;250;43m   \u001b[39;49m\u001b[38;5;124;43mr\u001b[39;49m\u001b[38;5;124;43;03m\"\"\"\u001b[39;49;00m\n\u001b[1;32m    216\u001b[0m \u001b[38;5;124;43;03m    default_rule = (multi_line_code / inline_code / prompt / hashtag)+\u001b[39;49;00m\n\u001b[1;32m    217\u001b[0m \u001b[38;5;124;43;03m    \u001b[39;49;00m\n\u001b[1;32m    218\u001b[0m \u001b[38;5;124;43;03m    multi_line_code = call \"```\" language? code \"```\" magic?\u001b[39;49;00m\n\u001b[1;32m    219\u001b[0m \u001b[38;5;124;43;03m    inline_code = call \"`\" code \"`\" magic?\u001b[39;49;00m\n\u001b[1;32m    220\u001b[0m \u001b[38;5;124;43;03m    language = ~r\"[-\\w]+\" ws\u001b[39;49;00m\n\u001b[1;32m    221\u001b[0m \u001b[38;5;124;43;03m    code = ~r\"([^`]+)\"\u001b[39;49;00m\n\u001b[1;32m    222\u001b[0m \u001b[38;5;124;43;03m    \u001b[39;49;00m\n\u001b[1;32m    223\u001b[0m \u001b[38;5;124;43;03m    prompt = actor? (ws? call object)? help? magic* ws text\u001b[39;49;00m\n\u001b[1;32m    224\u001b[0m \u001b[38;5;124;43;03m \u001b[39;49;00m\n\u001b[1;32m    225\u001b[0m \u001b[38;5;124;43;03m    call = \"@\" \u001b[39;49;00m\n\u001b[1;32m    226\u001b[0m \u001b[38;5;124;43;03m    actor = object \":\"\u001b[39;49;00m\n\u001b[1;32m    227\u001b[0m \u001b[38;5;124;43;03m    \u001b[39;49;00m\n\u001b[1;32m    228\u001b[0m \u001b[38;5;124;43;03m    hashtag = \"#\" object help? magic? previous? \u001b[39;49;00m\n\u001b[1;32m    229\u001b[0m \u001b[38;5;124;43;03m    \u001b[39;49;00m\n\u001b[1;32m    230\u001b[0m \u001b[38;5;124;43;03m    magic = \"*\"\u001b[39;49;00m\n\u001b[1;32m    231\u001b[0m \u001b[38;5;124;43;03m    help = \"?\"\u001b[39;49;00m\n\u001b[1;32m    232\u001b[0m \u001b[38;5;124;43;03m    previous = \"^\"\u001b[39;49;00m\n\u001b[1;32m    233\u001b[0m \u001b[38;5;124;43;03m    column = \u001b[39;49;00m\n\u001b[1;32m    234\u001b[0m \u001b[38;5;124;43;03m    object = ~r\"[0-9A-z_.]+\"\u001b[39;49;00m\n\u001b[1;32m    235\u001b[0m \u001b[38;5;124;43;03m    ws = ~r\"\\s+\"i \u001b[39;49;00m\n\u001b[1;32m    236\u001b[0m \n\u001b[1;32m    237\u001b[0m \u001b[38;5;124;43;03m    text = ~r\"([^#@]+)\"\u001b[39;49;00m\n\u001b[1;32m    238\u001b[0m \u001b[38;5;124;43;03m    \"\"\"\u001b[39;49;00m\n\u001b[1;32m    239\u001b[0m \u001b[43m)\u001b[49m\n\u001b[1;32m    241\u001b[0m \u001b[38;5;28;01mclass\u001b[39;00m \u001b[38;5;21;01mArthurVisitor\u001b[39;00m(NodeVisitor):\n\u001b[1;32m    242\u001b[0m     \u001b[38;5;28;01mdef\u001b[39;00m \u001b[38;5;21m__init__\u001b[39m(\u001b[38;5;28mself\u001b[39m, actor, name \u001b[38;5;241m=\u001b[39m \u001b[38;5;124m'\u001b[39m\u001b[38;5;124mArthur\u001b[39m\u001b[38;5;124m'\u001b[39m):\n",
      "File \u001b[0;32m~/roundtable/magickey/venv/lib/python3.10/site-packages/parsimonious/grammar.py:66\u001b[0m, in \u001b[0;36mGrammar.__init__\u001b[0;34m(self, rules, **more_rules)\u001b[0m\n\u001b[1;32m     48\u001b[0m \u001b[38;5;250m\u001b[39m\u001b[38;5;124;03m\"\"\"Construct a grammar.\u001b[39;00m\n\u001b[1;32m     49\u001b[0m \n\u001b[1;32m     50\u001b[0m \u001b[38;5;124;03m:arg rules: A string of production rules, one per line.\u001b[39;00m\n\u001b[0;32m   (...)\u001b[0m\n\u001b[1;32m     59\u001b[0m \n\u001b[1;32m     60\u001b[0m \u001b[38;5;124;03m\"\"\"\u001b[39;00m\n\u001b[1;32m     62\u001b[0m decorated_custom_rules \u001b[38;5;241m=\u001b[39m {\n\u001b[1;32m     63\u001b[0m     k: (expression(v, k, \u001b[38;5;28mself\u001b[39m) \u001b[38;5;28;01mif\u001b[39;00m is_callable(v) \u001b[38;5;28;01melse\u001b[39;00m v)\n\u001b[1;32m     64\u001b[0m     \u001b[38;5;28;01mfor\u001b[39;00m k, v \u001b[38;5;129;01min\u001b[39;00m more_rules\u001b[38;5;241m.\u001b[39mitems()}\n\u001b[0;32m---> 66\u001b[0m exprs, first \u001b[38;5;241m=\u001b[39m \u001b[38;5;28;43mself\u001b[39;49m\u001b[38;5;241;43m.\u001b[39;49m\u001b[43m_expressions_from_rules\u001b[49m\u001b[43m(\u001b[49m\u001b[43mrules\u001b[49m\u001b[43m,\u001b[49m\u001b[43m \u001b[49m\u001b[43mdecorated_custom_rules\u001b[49m\u001b[43m)\u001b[49m\n\u001b[1;32m     67\u001b[0m \u001b[38;5;28msuper\u001b[39m()\u001b[38;5;241m.\u001b[39m\u001b[38;5;21m__init__\u001b[39m(exprs\u001b[38;5;241m.\u001b[39mitems())\n\u001b[1;32m     68\u001b[0m \u001b[38;5;28mself\u001b[39m\u001b[38;5;241m.\u001b[39mdefault_rule \u001b[38;5;241m=\u001b[39m first\n",
      "File \u001b[0;32m~/roundtable/magickey/venv/lib/python3.10/site-packages/parsimonious/grammar.py:102\u001b[0m, in \u001b[0;36mGrammar._expressions_from_rules\u001b[0;34m(self, rules, custom_rules)\u001b[0m\n\u001b[1;32m     89\u001b[0m \u001b[38;5;28;01mdef\u001b[39;00m \u001b[38;5;21m_expressions_from_rules\u001b[39m(\u001b[38;5;28mself\u001b[39m, rules, custom_rules):\n\u001b[1;32m     90\u001b[0m \u001b[38;5;250m    \u001b[39m\u001b[38;5;124;03m\"\"\"Return a 2-tuple: a dict of rule names pointing to their\u001b[39;00m\n\u001b[1;32m     91\u001b[0m \u001b[38;5;124;03m    expressions, and then the first rule.\u001b[39;00m\n\u001b[1;32m     92\u001b[0m \n\u001b[0;32m   (...)\u001b[0m\n\u001b[1;32m    100\u001b[0m \n\u001b[1;32m    101\u001b[0m \u001b[38;5;124;03m    \"\"\"\u001b[39;00m\n\u001b[0;32m--> 102\u001b[0m     tree \u001b[38;5;241m=\u001b[39m \u001b[43mrule_grammar\u001b[49m\u001b[38;5;241;43m.\u001b[39;49m\u001b[43mparse\u001b[49m\u001b[43m(\u001b[49m\u001b[43mrules\u001b[49m\u001b[43m)\u001b[49m\n\u001b[1;32m    103\u001b[0m     \u001b[38;5;28;01mreturn\u001b[39;00m RuleVisitor(custom_rules)\u001b[38;5;241m.\u001b[39mvisit(tree)\n",
      "File \u001b[0;32m~/roundtable/magickey/venv/lib/python3.10/site-packages/parsimonious/grammar.py:112\u001b[0m, in \u001b[0;36mGrammar.parse\u001b[0;34m(self, text, pos)\u001b[0m\n\u001b[1;32m    106\u001b[0m \u001b[38;5;250m\u001b[39m\u001b[38;5;124;03m\"\"\"Parse some text with the :term:`default rule`.\u001b[39;00m\n\u001b[1;32m    107\u001b[0m \n\u001b[1;32m    108\u001b[0m \u001b[38;5;124;03m:arg pos: The index at which to start parsing\u001b[39;00m\n\u001b[1;32m    109\u001b[0m \n\u001b[1;32m    110\u001b[0m \u001b[38;5;124;03m\"\"\"\u001b[39;00m\n\u001b[1;32m    111\u001b[0m \u001b[38;5;28mself\u001b[39m\u001b[38;5;241m.\u001b[39m_check_default_rule()\n\u001b[0;32m--> 112\u001b[0m \u001b[38;5;28;01mreturn\u001b[39;00m \u001b[38;5;28;43mself\u001b[39;49m\u001b[38;5;241;43m.\u001b[39;49m\u001b[43mdefault_rule\u001b[49m\u001b[38;5;241;43m.\u001b[39;49m\u001b[43mparse\u001b[49m\u001b[43m(\u001b[49m\u001b[43mtext\u001b[49m\u001b[43m,\u001b[49m\u001b[43m \u001b[49m\u001b[43mpos\u001b[49m\u001b[38;5;241;43m=\u001b[39;49m\u001b[43mpos\u001b[49m\u001b[43m)\u001b[49m\n",
      "File \u001b[0;32m~/roundtable/magickey/venv/lib/python3.10/site-packages/parsimonious/expressions.py:143\u001b[0m, in \u001b[0;36mExpression.parse\u001b[0;34m(self, text, pos)\u001b[0m\n\u001b[1;32m    141\u001b[0m node \u001b[38;5;241m=\u001b[39m \u001b[38;5;28mself\u001b[39m\u001b[38;5;241m.\u001b[39mmatch(text, pos\u001b[38;5;241m=\u001b[39mpos)\n\u001b[1;32m    142\u001b[0m \u001b[38;5;28;01mif\u001b[39;00m node\u001b[38;5;241m.\u001b[39mend \u001b[38;5;241m<\u001b[39m \u001b[38;5;28mlen\u001b[39m(text):\n\u001b[0;32m--> 143\u001b[0m     \u001b[38;5;28;01mraise\u001b[39;00m IncompleteParseError(text, node\u001b[38;5;241m.\u001b[39mend, \u001b[38;5;28mself\u001b[39m)\n\u001b[1;32m    144\u001b[0m \u001b[38;5;28;01mreturn\u001b[39;00m node\n",
      "\u001b[0;31mIncompleteParseError\u001b[0m: Rule 'rules' matched in its entirety, but it didn't consume all the text. The non-matching portion of the text begins with 'column = \n    object' (line 19, column 5)."
     ]
    }
   ],
   "source": [
    "import magickey\n",
    "\n",
    "class Archimedes:\n",
    "   name = 'Archimedes'\n",
    "   embodiment = 'Small and safe robotic owl, weight 180 g'\n",
    "   abilities = 'flying, talking, and playing with children'\n",
    "    \n",
    "magickey.turn_on(Archimedes, \n",
    "        init = \"I'm playing with a young human child, his name is Arthur.\",\n",
    "        actor = 'Arthur',\n",
    "        engine = 'echo',\n",
    "       )\n"
   ]
  },
  {
   "cell_type": "code",
   "execution_count": 1,
   "id": "a63bc6af",
   "metadata": {},
   "outputs": [],
   "source": [
    "import magickey"
   ]
  },
  {
   "cell_type": "code",
   "execution_count": 2,
   "id": "4eed6e12",
   "metadata": {},
   "outputs": [
    {
     "name": "stdout",
     "output_type": "stream",
     "text": [
      "magickey\t \n"
     ]
    }
   ],
   "source": [
    "%who"
   ]
  },
  {
   "cell_type": "code",
   "execution_count": 1,
   "id": "6bb8b555",
   "metadata": {},
   "outputs": [
    {
     "ename": "IncompleteParseError",
     "evalue": "Rule 'rules' matched in its entirety, but it didn't consume all the text. The non-matching portion of the text begins with 'prompt = (object:)? ' (line 9, column 5).",
     "output_type": "error",
     "traceback": [
      "\u001b[0;31m---------------------------------------------------------------------------\u001b[0m",
      "\u001b[0;31mIncompleteParseError\u001b[0m                      Traceback (most recent call last)",
      "Cell \u001b[0;32mIn[1], line 1\u001b[0m\n\u001b[0;32m----> 1\u001b[0m \u001b[38;5;28;01mimport\u001b[39;00m \u001b[38;5;21;01mmagickey\u001b[39;00m\n\u001b[1;32m      3\u001b[0m \u001b[38;5;28;01mclass\u001b[39;00m \u001b[38;5;21;01mAI\u001b[39;00m:\n\u001b[1;32m      4\u001b[0m     name \u001b[38;5;241m=\u001b[39m \u001b[38;5;124m\"\u001b[39m\u001b[38;5;124mAI\u001b[39m\u001b[38;5;124m\"\u001b[39m\n",
      "File \u001b[0;32m~/roundtable/magickey/magickey/__init__.py:39\u001b[0m\n\u001b[1;32m      1\u001b[0m \u001b[38;5;124;03m\"\"\"\u001b[39;00m\n\u001b[1;32m      2\u001b[0m \u001b[38;5;124;03mThis module inserts the magic key and allows to turn it on or off.\u001b[39;00m\n\u001b[1;32m      3\u001b[0m \n\u001b[0;32m   (...)\u001b[0m\n\u001b[1;32m     35\u001b[0m \u001b[38;5;124;03m    >>> magickey.turn_off(merlin)      # By default, this backs up the episode and consolidates the memory\u001b[39;00m\n\u001b[1;32m     36\u001b[0m \u001b[38;5;124;03m\"\"\"\u001b[39;00m\n\u001b[0;32m---> 39\u001b[0m \u001b[38;5;28;01mfrom\u001b[39;00m \u001b[38;5;21;01m.\u001b[39;00m\u001b[38;5;21;01mmagics\u001b[39;00m \u001b[38;5;28;01mimport\u001b[39;00m load_ipython_extension\n\u001b[1;32m     40\u001b[0m \u001b[38;5;28;01mfrom\u001b[39;00m \u001b[38;5;21;01m.\u001b[39;00m\u001b[38;5;21;01mengine\u001b[39;00m \u001b[38;5;28;01mimport\u001b[39;00m turn_on, turn_off, on\n\u001b[1;32m     41\u001b[0m load_ipython_extension(get_ipython())\n",
      "File \u001b[0;32m~/roundtable/magickey/magickey/magics.py:214\u001b[0m\n\u001b[1;32m    205\u001b[0m             \u001b[38;5;28;01mreturn\u001b[39;00m line, cell\n\u001b[1;32m    209\u001b[0m \u001b[38;5;66;03m# define transformation \u001b[39;00m\n\u001b[1;32m    210\u001b[0m \u001b[38;5;66;03m# https://ipython.readthedocs.io/en/stable/config/inputtransforms.html\u001b[39;00m\n\u001b[1;32m    211\u001b[0m \n\u001b[1;32m    212\u001b[0m \n\u001b[1;32m    213\u001b[0m \u001b[38;5;66;03m# Grammar for LLM interface\u001b[39;00m\n\u001b[0;32m--> 214\u001b[0m arthur_grammar \u001b[38;5;241m=\u001b[39m \u001b[43mGrammar\u001b[49m\u001b[43m(\u001b[49m\n\u001b[1;32m    215\u001b[0m \u001b[38;5;250;43m   \u001b[39;49m\u001b[38;5;124;43mr\u001b[39;49m\u001b[38;5;124;43;03m\"\"\"\u001b[39;49;00m\n\u001b[1;32m    216\u001b[0m \u001b[38;5;124;43;03m    default_rule = (multi_line_code / inline_code / prompt / hashtag)+\u001b[39;49;00m\n\u001b[1;32m    217\u001b[0m \u001b[38;5;124;43;03m    \u001b[39;49;00m\n\u001b[1;32m    218\u001b[0m \u001b[38;5;124;43;03m    multi_line_code = call \"```\" language? code \"```\"\u001b[39;49;00m\n\u001b[1;32m    219\u001b[0m \u001b[38;5;124;43;03m    inline_code = call \"`\" code \"`\"\u001b[39;49;00m\n\u001b[1;32m    220\u001b[0m \u001b[38;5;124;43;03m    language = ~r\"[-\\w]+\" ws\u001b[39;49;00m\n\u001b[1;32m    221\u001b[0m \u001b[38;5;124;43;03m    code = ~r\"([^`]+)\"\u001b[39;49;00m\n\u001b[1;32m    222\u001b[0m \u001b[38;5;124;43;03m    \u001b[39;49;00m\n\u001b[1;32m    223\u001b[0m \u001b[38;5;124;43;03m    prompt = (object:)? (ws? call object)? help? magic* ws text\u001b[39;49;00m\n\u001b[1;32m    224\u001b[0m \u001b[38;5;124;43;03m \u001b[39;49;00m\n\u001b[1;32m    225\u001b[0m \u001b[38;5;124;43;03m    call = \"@\" \u001b[39;49;00m\n\u001b[1;32m    226\u001b[0m \u001b[38;5;124;43;03m    \u001b[39;49;00m\n\u001b[1;32m    227\u001b[0m \u001b[38;5;124;43;03m    hashtag = \"#\" help? magic? previous? object\u001b[39;49;00m\n\u001b[1;32m    228\u001b[0m \u001b[38;5;124;43;03m    \u001b[39;49;00m\n\u001b[1;32m    229\u001b[0m \u001b[38;5;124;43;03m    magic = \"*\"\u001b[39;49;00m\n\u001b[1;32m    230\u001b[0m \u001b[38;5;124;43;03m    help = \"?\"\u001b[39;49;00m\n\u001b[1;32m    231\u001b[0m \u001b[38;5;124;43;03m    previous = \"^\"\u001b[39;49;00m\n\u001b[1;32m    232\u001b[0m \u001b[38;5;124;43;03m    object = ~r\"[0-9A-z_.]+\"\u001b[39;49;00m\n\u001b[1;32m    233\u001b[0m \u001b[38;5;124;43;03m    ws = ~r\"\\s+\"i \u001b[39;49;00m\n\u001b[1;32m    234\u001b[0m \n\u001b[1;32m    235\u001b[0m \u001b[38;5;124;43;03m    text = ~r\"([^#@]+)\"\u001b[39;49;00m\n\u001b[1;32m    236\u001b[0m \u001b[38;5;124;43;03m    \"\"\"\u001b[39;49;00m\n\u001b[1;32m    237\u001b[0m \u001b[43m)\u001b[49m\n\u001b[1;32m    239\u001b[0m \u001b[38;5;28;01mclass\u001b[39;00m \u001b[38;5;21;01mArthurVisitor\u001b[39;00m(NodeVisitor):\n\u001b[1;32m    240\u001b[0m     \u001b[38;5;28;01mdef\u001b[39;00m \u001b[38;5;21m__init__\u001b[39m(\u001b[38;5;28mself\u001b[39m, actor, name \u001b[38;5;241m=\u001b[39m \u001b[38;5;124m'\u001b[39m\u001b[38;5;124mArthur\u001b[39m\u001b[38;5;124m'\u001b[39m):\n",
      "File \u001b[0;32m~/roundtable/magickey/venv/lib/python3.10/site-packages/parsimonious/grammar.py:66\u001b[0m, in \u001b[0;36mGrammar.__init__\u001b[0;34m(self, rules, **more_rules)\u001b[0m\n\u001b[1;32m     48\u001b[0m \u001b[38;5;250m\u001b[39m\u001b[38;5;124;03m\"\"\"Construct a grammar.\u001b[39;00m\n\u001b[1;32m     49\u001b[0m \n\u001b[1;32m     50\u001b[0m \u001b[38;5;124;03m:arg rules: A string of production rules, one per line.\u001b[39;00m\n\u001b[0;32m   (...)\u001b[0m\n\u001b[1;32m     59\u001b[0m \n\u001b[1;32m     60\u001b[0m \u001b[38;5;124;03m\"\"\"\u001b[39;00m\n\u001b[1;32m     62\u001b[0m decorated_custom_rules \u001b[38;5;241m=\u001b[39m {\n\u001b[1;32m     63\u001b[0m     k: (expression(v, k, \u001b[38;5;28mself\u001b[39m) \u001b[38;5;28;01mif\u001b[39;00m is_callable(v) \u001b[38;5;28;01melse\u001b[39;00m v)\n\u001b[1;32m     64\u001b[0m     \u001b[38;5;28;01mfor\u001b[39;00m k, v \u001b[38;5;129;01min\u001b[39;00m more_rules\u001b[38;5;241m.\u001b[39mitems()}\n\u001b[0;32m---> 66\u001b[0m exprs, first \u001b[38;5;241m=\u001b[39m \u001b[38;5;28;43mself\u001b[39;49m\u001b[38;5;241;43m.\u001b[39;49m\u001b[43m_expressions_from_rules\u001b[49m\u001b[43m(\u001b[49m\u001b[43mrules\u001b[49m\u001b[43m,\u001b[49m\u001b[43m \u001b[49m\u001b[43mdecorated_custom_rules\u001b[49m\u001b[43m)\u001b[49m\n\u001b[1;32m     67\u001b[0m \u001b[38;5;28msuper\u001b[39m()\u001b[38;5;241m.\u001b[39m\u001b[38;5;21m__init__\u001b[39m(exprs\u001b[38;5;241m.\u001b[39mitems())\n\u001b[1;32m     68\u001b[0m \u001b[38;5;28mself\u001b[39m\u001b[38;5;241m.\u001b[39mdefault_rule \u001b[38;5;241m=\u001b[39m first\n",
      "File \u001b[0;32m~/roundtable/magickey/venv/lib/python3.10/site-packages/parsimonious/grammar.py:102\u001b[0m, in \u001b[0;36mGrammar._expressions_from_rules\u001b[0;34m(self, rules, custom_rules)\u001b[0m\n\u001b[1;32m     89\u001b[0m \u001b[38;5;28;01mdef\u001b[39;00m \u001b[38;5;21m_expressions_from_rules\u001b[39m(\u001b[38;5;28mself\u001b[39m, rules, custom_rules):\n\u001b[1;32m     90\u001b[0m \u001b[38;5;250m    \u001b[39m\u001b[38;5;124;03m\"\"\"Return a 2-tuple: a dict of rule names pointing to their\u001b[39;00m\n\u001b[1;32m     91\u001b[0m \u001b[38;5;124;03m    expressions, and then the first rule.\u001b[39;00m\n\u001b[1;32m     92\u001b[0m \n\u001b[0;32m   (...)\u001b[0m\n\u001b[1;32m    100\u001b[0m \n\u001b[1;32m    101\u001b[0m \u001b[38;5;124;03m    \"\"\"\u001b[39;00m\n\u001b[0;32m--> 102\u001b[0m     tree \u001b[38;5;241m=\u001b[39m \u001b[43mrule_grammar\u001b[49m\u001b[38;5;241;43m.\u001b[39;49m\u001b[43mparse\u001b[49m\u001b[43m(\u001b[49m\u001b[43mrules\u001b[49m\u001b[43m)\u001b[49m\n\u001b[1;32m    103\u001b[0m     \u001b[38;5;28;01mreturn\u001b[39;00m RuleVisitor(custom_rules)\u001b[38;5;241m.\u001b[39mvisit(tree)\n",
      "File \u001b[0;32m~/roundtable/magickey/venv/lib/python3.10/site-packages/parsimonious/grammar.py:112\u001b[0m, in \u001b[0;36mGrammar.parse\u001b[0;34m(self, text, pos)\u001b[0m\n\u001b[1;32m    106\u001b[0m \u001b[38;5;250m\u001b[39m\u001b[38;5;124;03m\"\"\"Parse some text with the :term:`default rule`.\u001b[39;00m\n\u001b[1;32m    107\u001b[0m \n\u001b[1;32m    108\u001b[0m \u001b[38;5;124;03m:arg pos: The index at which to start parsing\u001b[39;00m\n\u001b[1;32m    109\u001b[0m \n\u001b[1;32m    110\u001b[0m \u001b[38;5;124;03m\"\"\"\u001b[39;00m\n\u001b[1;32m    111\u001b[0m \u001b[38;5;28mself\u001b[39m\u001b[38;5;241m.\u001b[39m_check_default_rule()\n\u001b[0;32m--> 112\u001b[0m \u001b[38;5;28;01mreturn\u001b[39;00m \u001b[38;5;28;43mself\u001b[39;49m\u001b[38;5;241;43m.\u001b[39;49m\u001b[43mdefault_rule\u001b[49m\u001b[38;5;241;43m.\u001b[39;49m\u001b[43mparse\u001b[49m\u001b[43m(\u001b[49m\u001b[43mtext\u001b[49m\u001b[43m,\u001b[49m\u001b[43m \u001b[49m\u001b[43mpos\u001b[49m\u001b[38;5;241;43m=\u001b[39;49m\u001b[43mpos\u001b[49m\u001b[43m)\u001b[49m\n",
      "File \u001b[0;32m~/roundtable/magickey/venv/lib/python3.10/site-packages/parsimonious/expressions.py:143\u001b[0m, in \u001b[0;36mExpression.parse\u001b[0;34m(self, text, pos)\u001b[0m\n\u001b[1;32m    141\u001b[0m node \u001b[38;5;241m=\u001b[39m \u001b[38;5;28mself\u001b[39m\u001b[38;5;241m.\u001b[39mmatch(text, pos\u001b[38;5;241m=\u001b[39mpos)\n\u001b[1;32m    142\u001b[0m \u001b[38;5;28;01mif\u001b[39;00m node\u001b[38;5;241m.\u001b[39mend \u001b[38;5;241m<\u001b[39m \u001b[38;5;28mlen\u001b[39m(text):\n\u001b[0;32m--> 143\u001b[0m     \u001b[38;5;28;01mraise\u001b[39;00m IncompleteParseError(text, node\u001b[38;5;241m.\u001b[39mend, \u001b[38;5;28mself\u001b[39m)\n\u001b[1;32m    144\u001b[0m \u001b[38;5;28;01mreturn\u001b[39;00m node\n",
      "\u001b[0;31mIncompleteParseError\u001b[0m: Rule 'rules' matched in its entirety, but it didn't consume all the text. The non-matching portion of the text begins with 'prompt = (object:)? ' (line 9, column 5)."
     ]
    }
   ],
   "source": [
    "import magickey\n",
    "\n",
    "class AI:\n",
    "    name = \"AI\"\n",
    "    init = \"In the following exchange Assistant acts as AI.\"\n",
    "\n",
    "    \n",
    "    \n",
    "magickey.turn_on(AI, actor = \"User\", steps = 1, engine = 'echo')"
   ]
  },
  {
   "cell_type": "code",
   "execution_count": 2,
   "id": "2b3b61f5",
   "metadata": {},
   "outputs": [
    {
     "name": "stdout",
     "output_type": "stream",
     "text": [
      "['import magickey\\n', 'tree = magickey.magics.arthur_grammar.parse(\"@AI Please, could you use numpy and calculate 42^2 for me ?\")\\n', '\\n', 'visitor = magickey.magics.ArthurVisitor(\"User\", \"AI\")\\n', 'visitor.visit(tree)\\n']\n",
      "['import magickey\\n', 'tree = magickey.magics.arthur_grammar.parse(\"@AI Please, could you use numpy and calculate 42^2 for me ?\")\\n', '\\n', 'visitor = magickey.magics.ArthurVisitor(\"User\", \"AI\")\\n', 'visitor.visit(tree)\\n']\n",
      "visit_prompt <Node matching \"\"> [[s = '@AI Please, could you use numpy and calculate 42^2 for me ?'\n",
      "Node(<Quantifier ws?>, s, 0, 0), s = '@AI Please, could you use numpy and calculate 42^2 for me ?'\n",
      "Node(<Literal call = '@'>, s, 0, 1), s = '@AI Please, could you use numpy and calculate 42^2 for me ?'\n",
      "RegexNode(<Regex object = ~'[0-9A-z_.]+'u>, s, 1, 3)]] <Node matching \"\"> <Node matching \"\"> <RegexNode called \"ws\" matching \" \"> <RegexNode called \"text\" matching \"Please, could you use numpy and calculate 42^2 for me ?\">\n"
     ]
    },
    {
     "data": {
      "text/plain": [
       "[[None]]"
      ]
     },
     "execution_count": 2,
     "metadata": {},
     "output_type": "execute_result"
    }
   ],
   "source": [
    "import magickey\n",
    "tree = magickey.magics.arthur_grammar.parse(\"@AI Please, could you use numpy and calculate 42^2 for me ?\")\n",
    "\n",
    "visitor = magickey.magics.ArthurVisitor(\"User\", \"AI\")\n",
    "visitor.visit(tree)\n"
   ]
  },
  {
   "cell_type": "code",
   "execution_count": 2,
   "id": "f0b83a2d",
   "metadata": {},
   "outputs": [
    {
     "name": "stdout",
     "output_type": "stream",
     "text": [
      "['@AI Please, could you use numpy and calculate 42^2 for me ?\\n']\n",
      "['@AI Please, could you use numpy and calculate 42^2 for me ?\\n']\n"
     ]
    },
    {
     "ename": "SyntaxError",
     "evalue": "invalid syntax (581938819.py, line 1)",
     "output_type": "error",
     "traceback": [
      "\u001b[0;36m  Cell \u001b[0;32mIn[2], line 1\u001b[0;36m\u001b[0m\n\u001b[0;31m    @AI Please, could you use numpy and calculate 42^2 for me ?\u001b[0m\n\u001b[0m        ^\u001b[0m\n\u001b[0;31mSyntaxError\u001b[0m\u001b[0;31m:\u001b[0m invalid syntax\n"
     ]
    }
   ],
   "source": [
    "@AI Please, could you use numpy and calculate 42^2 for me ?"
   ]
  },
  {
   "cell_type": "code",
   "execution_count": 5,
   "id": "e9f21a38",
   "metadata": {},
   "outputs": [
    {
     "ename": "ValueError",
     "evalue": "Unknown prompt target @n. Suggestion: check %who or use Python syntax to call the object directly.",
     "output_type": "error",
     "traceback": [
      "\u001b[0;31m---------------------------------------------------------------------------\u001b[0m",
      "\u001b[0;31mValueError\u001b[0m                                Traceback (most recent call last)",
      "Cell \u001b[0;32mIn[5], line 1\u001b[0m\n\u001b[0;32m----> 1\u001b[0m \u001b[43mget_ipython\u001b[49m\u001b[43m(\u001b[49m\u001b[43m)\u001b[49m\u001b[38;5;241;43m.\u001b[39;49m\u001b[43mrun_line_magic\u001b[49m\u001b[43m(\u001b[49m\u001b[38;5;124;43m'\u001b[39;49m\u001b[38;5;124;43mprompt\u001b[39;49m\u001b[38;5;124;43m'\u001b[39;49m\u001b[43m,\u001b[49m\u001b[43m \u001b[49m\u001b[38;5;124;43m'\u001b[39;49m\u001b[38;5;124;43mMerlin -a AI r\u001b[39;49m\u001b[38;5;124;43m\"\u001b[39;49m\u001b[38;5;124;43m\"\u001b[39;49m\u001b[38;5;124;43m\"\u001b[39;49m\u001b[38;5;124;43mArthur: My apologies, I provided the wrong output above. Here\u001b[39;49m\u001b[38;5;130;43;01m\\'\u001b[39;49;00m\u001b[38;5;124;43ms the correct one:\u001b[39;49m\u001b[38;5;124;43m'\u001b[39;49m\u001b[43m)\u001b[49m\n",
      "File \u001b[0;32m~/roundtable/magickey/venv/lib/python3.10/site-packages/IPython/core/interactiveshell.py:2369\u001b[0m, in \u001b[0;36mInteractiveShell.run_line_magic\u001b[0;34m(self, magic_name, line, _stack_depth)\u001b[0m\n\u001b[1;32m   2367\u001b[0m     kwargs[\u001b[38;5;124m'\u001b[39m\u001b[38;5;124mlocal_ns\u001b[39m\u001b[38;5;124m'\u001b[39m] \u001b[38;5;241m=\u001b[39m \u001b[38;5;28mself\u001b[39m\u001b[38;5;241m.\u001b[39mget_local_scope(stack_depth)\n\u001b[1;32m   2368\u001b[0m \u001b[38;5;28;01mwith\u001b[39;00m \u001b[38;5;28mself\u001b[39m\u001b[38;5;241m.\u001b[39mbuiltin_trap:\n\u001b[0;32m-> 2369\u001b[0m     result \u001b[38;5;241m=\u001b[39m \u001b[43mfn\u001b[49m\u001b[43m(\u001b[49m\u001b[38;5;241;43m*\u001b[39;49m\u001b[43margs\u001b[49m\u001b[43m,\u001b[49m\u001b[43m \u001b[49m\u001b[38;5;241;43m*\u001b[39;49m\u001b[38;5;241;43m*\u001b[39;49m\u001b[43mkwargs\u001b[49m\u001b[43m)\u001b[49m\n\u001b[1;32m   2371\u001b[0m \u001b[38;5;66;03m# The code below prevents the output from being displayed\u001b[39;00m\n\u001b[1;32m   2372\u001b[0m \u001b[38;5;66;03m# when using magics with decodator @output_can_be_silenced\u001b[39;00m\n\u001b[1;32m   2373\u001b[0m \u001b[38;5;66;03m# when the last Python token in the expression is a ';'.\u001b[39;00m\n\u001b[1;32m   2374\u001b[0m \u001b[38;5;28;01mif\u001b[39;00m \u001b[38;5;28mgetattr\u001b[39m(fn, magic\u001b[38;5;241m.\u001b[39mMAGIC_OUTPUT_CAN_BE_SILENCED, \u001b[38;5;28;01mFalse\u001b[39;00m):\n",
      "File \u001b[0;32m~/roundtable/magickey/magickey/magics.py:77\u001b[0m, in \u001b[0;36mKeyMagics.prompt\u001b[0;34m(self, line)\u001b[0m\n\u001b[1;32m     75\u001b[0m     \u001b[38;5;28;01mreturn\u001b[39;00m Markdown(\u001b[38;5;28minput\u001b[39m)\n\u001b[1;32m     76\u001b[0m \u001b[38;5;28;01melse\u001b[39;00m:\n\u001b[0;32m---> 77\u001b[0m     \u001b[38;5;28;01mraise\u001b[39;00m \u001b[38;5;167;01mValueError\u001b[39;00m(\u001b[38;5;124mf\u001b[39m\u001b[38;5;124m\"\u001b[39m\u001b[38;5;124mUnknown prompt target @\u001b[39m\u001b[38;5;132;01m{\u001b[39;00mname\u001b[38;5;132;01m}\u001b[39;00m\u001b[38;5;124m. Suggestion: check %who or use Python syntax to call the object directly.\u001b[39m\u001b[38;5;124m\"\u001b[39m)\n",
      "\u001b[0;31mValueError\u001b[0m: Unknown prompt target @n. Suggestion: check %who or use Python syntax to call the object directly."
     ]
    }
   ],
   "source": [
    "%prompt Merlin -a AI r\"\"\"Arthur: My apologies, I provided the wrong output above. Here's the correct one:"
   ]
  },
  {
   "cell_type": "code",
   "execution_count": 3,
   "id": "a5fcb5c3",
   "metadata": {},
   "outputs": [
    {
     "ename": "ValueError",
     "evalue": "Unknown prompt target @n. Suggestion: check %who or use Python syntax to call the object directly.",
     "output_type": "error",
     "traceback": [
      "\u001b[0;31m---------------------------------------------------------------------------\u001b[0m",
      "\u001b[0;31mValueError\u001b[0m                                Traceback (most recent call last)",
      "Cell \u001b[0;32mIn[3], line 1\u001b[0m\n\u001b[0;32m----> 1\u001b[0m \u001b[43mget_ipython\u001b[49m\u001b[43m(\u001b[49m\u001b[43m)\u001b[49m\u001b[38;5;241;43m.\u001b[39;49m\u001b[43mrun_line_magic\u001b[49m\u001b[43m(\u001b[49m\u001b[38;5;124;43m'\u001b[39;49m\u001b[38;5;124;43mprompt\u001b[39;49m\u001b[38;5;124;43m'\u001b[39;49m\u001b[43m,\u001b[49m\u001b[43m \u001b[49m\u001b[38;5;124;43m'\u001b[39;49m\u001b[38;5;124;43mMerlin -a AI r\u001b[39;49m\u001b[38;5;124;43m\"\u001b[39;49m\u001b[38;5;124;43m\"\u001b[39;49m\u001b[38;5;124;43m\"\u001b[39;49m\u001b[38;5;124;43mArthur: Sure! Here\u001b[39;49m\u001b[38;5;130;43;01m\\'\u001b[39;49;00m\u001b[38;5;124;43ms how you can do it using numpy:\u001b[39;49m\u001b[38;5;124;43m'\u001b[39;49m\u001b[43m)\u001b[49m\n",
      "File \u001b[0;32m~/roundtable/magickey/venv/lib/python3.10/site-packages/IPython/core/interactiveshell.py:2369\u001b[0m, in \u001b[0;36mInteractiveShell.run_line_magic\u001b[0;34m(self, magic_name, line, _stack_depth)\u001b[0m\n\u001b[1;32m   2367\u001b[0m     kwargs[\u001b[38;5;124m'\u001b[39m\u001b[38;5;124mlocal_ns\u001b[39m\u001b[38;5;124m'\u001b[39m] \u001b[38;5;241m=\u001b[39m \u001b[38;5;28mself\u001b[39m\u001b[38;5;241m.\u001b[39mget_local_scope(stack_depth)\n\u001b[1;32m   2368\u001b[0m \u001b[38;5;28;01mwith\u001b[39;00m \u001b[38;5;28mself\u001b[39m\u001b[38;5;241m.\u001b[39mbuiltin_trap:\n\u001b[0;32m-> 2369\u001b[0m     result \u001b[38;5;241m=\u001b[39m \u001b[43mfn\u001b[49m\u001b[43m(\u001b[49m\u001b[38;5;241;43m*\u001b[39;49m\u001b[43margs\u001b[49m\u001b[43m,\u001b[49m\u001b[43m \u001b[49m\u001b[38;5;241;43m*\u001b[39;49m\u001b[38;5;241;43m*\u001b[39;49m\u001b[43mkwargs\u001b[49m\u001b[43m)\u001b[49m\n\u001b[1;32m   2371\u001b[0m \u001b[38;5;66;03m# The code below prevents the output from being displayed\u001b[39;00m\n\u001b[1;32m   2372\u001b[0m \u001b[38;5;66;03m# when using magics with decodator @output_can_be_silenced\u001b[39;00m\n\u001b[1;32m   2373\u001b[0m \u001b[38;5;66;03m# when the last Python token in the expression is a ';'.\u001b[39;00m\n\u001b[1;32m   2374\u001b[0m \u001b[38;5;28;01mif\u001b[39;00m \u001b[38;5;28mgetattr\u001b[39m(fn, magic\u001b[38;5;241m.\u001b[39mMAGIC_OUTPUT_CAN_BE_SILENCED, \u001b[38;5;28;01mFalse\u001b[39;00m):\n",
      "File \u001b[0;32m~/roundtable/magickey/magickey/magics.py:77\u001b[0m, in \u001b[0;36mKeyMagics.prompt\u001b[0;34m(self, line)\u001b[0m\n\u001b[1;32m     75\u001b[0m     \u001b[38;5;28;01mreturn\u001b[39;00m Markdown(\u001b[38;5;28minput\u001b[39m)\n\u001b[1;32m     76\u001b[0m \u001b[38;5;28;01melse\u001b[39;00m:\n\u001b[0;32m---> 77\u001b[0m     \u001b[38;5;28;01mraise\u001b[39;00m \u001b[38;5;167;01mValueError\u001b[39;00m(\u001b[38;5;124mf\u001b[39m\u001b[38;5;124m\"\u001b[39m\u001b[38;5;124mUnknown prompt target @\u001b[39m\u001b[38;5;132;01m{\u001b[39;00mname\u001b[38;5;132;01m}\u001b[39;00m\u001b[38;5;124m. Suggestion: check %who or use Python syntax to call the object directly.\u001b[39m\u001b[38;5;124m\"\u001b[39m)\n",
      "\u001b[0;31mValueError\u001b[0m: Unknown prompt target @n. Suggestion: check %who or use Python syntax to call the object directly."
     ]
    }
   ],
   "source": [
    "%prompt Merlin -a AI r\"\"\"Arthur: Sure! Here's how you can do it using numpy:"
   ]
  },
  {
   "cell_type": "code",
   "execution_count": 3,
   "id": "ce0c145e",
   "metadata": {
    "collapsed": true
   },
   "outputs": [
    {
     "ename": "SyntaxError",
     "evalue": "unterminated triple-quoted string literal (detected at line 9) (118656568.py, line 9)",
     "output_type": "error",
     "traceback": [
      "\u001b[0;36m  Cell \u001b[0;32mIn[3], line 9\u001b[0;36m\u001b[0m\n\u001b[0;31m    Merlin: Great, thanks!\"\"\"\u001b[0m\n\u001b[0m                          ^\u001b[0m\n\u001b[0;31mSyntaxError\u001b[0m\u001b[0;31m:\u001b[0m unterminated triple-quoted string literal (detected at line 9)\n"
     ]
    },
    {
     "data": {
      "application/javascript": [
       "\n",
       "        var current_cell = IPython.notebook.get_selected_cell();\n",
       "        current_cell.output_area.collapse();\n",
       "        var cell = IPython.notebook.insert_cell_below(\"code\");\n",
       "        cell.set_text(\"@Arthur\\nIn [3]: %prompt Merlin -a AI r\\\"\\\"\\\"Arthur: Sure thing! Here's the code to accomplish that: \\\"\\\"\\\"\\nnumpy as np\\nx = np.power(42, 2)\\nx\\n%prompt Merlin -a AI r\\\"\\\"\\\" \\n\\nOut[1]: 1764 \\n\\nMerlin: Great, thanks!\\\"\\\"\\\"\\nSyntaxError: unterminated triple-quoted string literal (detected at line 9) in Merlin: Great, thanks!\\\"\\\"\\\"\\n\");\n",
       "        cell.focus_cell();\n",
       "        if (true) {\n",
       "            cell.execute();\n",
       "        }\n",
       "        "
      ],
      "text/plain": [
       "<IPython.core.display.Javascript object>"
      ]
     },
     "metadata": {},
     "output_type": "display_data"
    }
   ],
   "source": [
    "%prompt Merlin -a AI r\"\"\"Arthur: Sure thing! Here's the code to accomplish that: \"\"\"\n",
    "numpy as np\n",
    "x = np.power(42, 2)\n",
    "x\n",
    "%prompt Merlin -a AI r\"\"\" \n",
    "\n",
    "Out[1]: 1764 \n",
    "\n",
    "Merlin: Great, thanks!\"\"\""
   ]
  },
  {
   "cell_type": "code",
   "execution_count": 4,
   "id": "663d86b3",
   "metadata": {},
   "outputs": [
    {
     "ename": "ValueError",
     "evalue": "Unknown prompt target @Arthur. Suggestion: check %who or use Python syntax to call the object directly.",
     "output_type": "error",
     "traceback": [
      "\u001b[0;31m---------------------------------------------------------------------------\u001b[0m",
      "\u001b[0;31mValueError\u001b[0m                                Traceback (most recent call last)",
      "Cell \u001b[0;32mIn[4], line 1\u001b[0m\n\u001b[0;32m----> 1\u001b[0m \u001b[43mget_ipython\u001b[49m\u001b[43m(\u001b[49m\u001b[43m)\u001b[49m\u001b[38;5;241;43m.\u001b[39;49m\u001b[43mrun_line_magic\u001b[49m\u001b[43m(\u001b[49m\u001b[38;5;124;43m'\u001b[39;49m\u001b[38;5;124;43mprompt\u001b[39;49m\u001b[38;5;124;43m'\u001b[39;49m\u001b[43m,\u001b[49m\u001b[43m \u001b[49m\u001b[38;5;124;43m'\u001b[39;49m\u001b[38;5;124;43mr\u001b[39;49m\u001b[38;5;124;43m\"\u001b[39;49m\u001b[38;5;124;43m\"\u001b[39;49m\u001b[38;5;124;43m\"\u001b[39;49m\u001b[38;5;124;43m@Arthur\u001b[39;49m\u001b[38;5;130;43;01m\\n\u001b[39;49;00m\u001b[38;5;124;43mIn [3]: \u001b[39;49m\u001b[38;5;124;43m%\u001b[39;49m\u001b[38;5;124;43mprompt Merlin -a AI r\u001b[39;49m\u001b[38;5;124;43m\"\u001b[39;49m\u001b[38;5;124;43m\"\u001b[39;49m\u001b[38;5;124;43m\"\u001b[39;49m\u001b[38;5;124;43mArthur: Sure thing! Here\u001b[39;49m\u001b[38;5;130;43;01m\\'\u001b[39;49;00m\u001b[38;5;124;43ms the code to accomplish that: \u001b[39;49m\u001b[38;5;124;43m\"\u001b[39;49m\u001b[38;5;124;43m\"\u001b[39;49m\u001b[38;5;124;43m\"\u001b[39;49m\u001b[38;5;130;43;01m\\n\u001b[39;49;00m\u001b[38;5;124;43mnumpy as np\u001b[39;49m\u001b[38;5;130;43;01m\\n\u001b[39;49;00m\u001b[38;5;124;43mx = np.power(42, 2)\u001b[39;49m\u001b[38;5;130;43;01m\\n\u001b[39;49;00m\u001b[38;5;124;43mx\u001b[39;49m\u001b[38;5;130;43;01m\\n\u001b[39;49;00m\u001b[38;5;124;43m%\u001b[39;49m\u001b[38;5;124;43mprompt Merlin -a AI r\u001b[39;49m\u001b[38;5;124;43m\"\u001b[39;49m\u001b[38;5;124;43m\"\u001b[39;49m\u001b[38;5;124;43m\"\u001b[39;49m\u001b[38;5;124;43m \u001b[39;49m\u001b[38;5;130;43;01m\\n\u001b[39;49;00m\u001b[38;5;130;43;01m\\n\u001b[39;49;00m\u001b[38;5;124;43mOut[1]: 1764 \u001b[39;49m\u001b[38;5;130;43;01m\\n\u001b[39;49;00m\u001b[38;5;130;43;01m\\n\u001b[39;49;00m\u001b[38;5;124;43mMerlin: Great, thanks!\u001b[39;49m\u001b[38;5;124;43m\"\u001b[39;49m\u001b[38;5;124;43m\"\u001b[39;49m\u001b[38;5;124;43m\"\u001b[39;49m\u001b[38;5;130;43;01m\\n\u001b[39;49;00m\u001b[38;5;124;43mSyntaxError: unterminated triple-quoted string literal (detected at line 9) in Merlin: Great, thanks!\u001b[39;49m\u001b[38;5;124;43m\"\u001b[39;49m\u001b[38;5;124;43m\"\u001b[39;49m\u001b[38;5;124;43m\"\u001b[39;49m\u001b[38;5;130;43;01m\\n\u001b[39;49;00m\u001b[38;5;124;43m\"\u001b[39;49m\u001b[38;5;124;43m\"\u001b[39;49m\u001b[38;5;124;43m\"\u001b[39;49m\u001b[38;5;124;43m'\u001b[39;49m\u001b[43m)\u001b[49m\n",
      "File \u001b[0;32m~/roundtable/magickey/venv/lib/python3.10/site-packages/IPython/core/interactiveshell.py:2369\u001b[0m, in \u001b[0;36mInteractiveShell.run_line_magic\u001b[0;34m(self, magic_name, line, _stack_depth)\u001b[0m\n\u001b[1;32m   2367\u001b[0m     kwargs[\u001b[38;5;124m'\u001b[39m\u001b[38;5;124mlocal_ns\u001b[39m\u001b[38;5;124m'\u001b[39m] \u001b[38;5;241m=\u001b[39m \u001b[38;5;28mself\u001b[39m\u001b[38;5;241m.\u001b[39mget_local_scope(stack_depth)\n\u001b[1;32m   2368\u001b[0m \u001b[38;5;28;01mwith\u001b[39;00m \u001b[38;5;28mself\u001b[39m\u001b[38;5;241m.\u001b[39mbuiltin_trap:\n\u001b[0;32m-> 2369\u001b[0m     result \u001b[38;5;241m=\u001b[39m \u001b[43mfn\u001b[49m\u001b[43m(\u001b[49m\u001b[38;5;241;43m*\u001b[39;49m\u001b[43margs\u001b[49m\u001b[43m,\u001b[49m\u001b[43m \u001b[49m\u001b[38;5;241;43m*\u001b[39;49m\u001b[38;5;241;43m*\u001b[39;49m\u001b[43mkwargs\u001b[49m\u001b[43m)\u001b[49m\n\u001b[1;32m   2371\u001b[0m \u001b[38;5;66;03m# The code below prevents the output from being displayed\u001b[39;00m\n\u001b[1;32m   2372\u001b[0m \u001b[38;5;66;03m# when using magics with decodator @output_can_be_silenced\u001b[39;00m\n\u001b[1;32m   2373\u001b[0m \u001b[38;5;66;03m# when the last Python token in the expression is a ';'.\u001b[39;00m\n\u001b[1;32m   2374\u001b[0m \u001b[38;5;28;01mif\u001b[39;00m \u001b[38;5;28mgetattr\u001b[39m(fn, magic\u001b[38;5;241m.\u001b[39mMAGIC_OUTPUT_CAN_BE_SILENCED, \u001b[38;5;28;01mFalse\u001b[39;00m):\n",
      "File \u001b[0;32m~/roundtable/magickey/magickey/magics.py:77\u001b[0m, in \u001b[0;36mKeyMagics.prompt\u001b[0;34m(self, line)\u001b[0m\n\u001b[1;32m     75\u001b[0m     \u001b[38;5;28;01mreturn\u001b[39;00m Markdown(\u001b[38;5;28minput\u001b[39m)\n\u001b[1;32m     76\u001b[0m \u001b[38;5;28;01melse\u001b[39;00m:\n\u001b[0;32m---> 77\u001b[0m     \u001b[38;5;28;01mraise\u001b[39;00m \u001b[38;5;167;01mValueError\u001b[39;00m(\u001b[38;5;124mf\u001b[39m\u001b[38;5;124m\"\u001b[39m\u001b[38;5;124mUnknown prompt target @\u001b[39m\u001b[38;5;132;01m{\u001b[39;00mname\u001b[38;5;132;01m}\u001b[39;00m\u001b[38;5;124m. Suggestion: check %who or use Python syntax to call the object directly.\u001b[39m\u001b[38;5;124m\"\u001b[39m)\n",
      "\u001b[0;31mValueError\u001b[0m: Unknown prompt target @Arthur. Suggestion: check %who or use Python syntax to call the object directly."
     ]
    }
   ],
   "source": [
    "@Arthur\n",
    "In [3]: %prompt Merlin -a AI r\"\"\"Arthur: Sure thing! Here's the code to accomplish that: \"\"\"\n",
    "numpy as np\n",
    "x = np.power(42, 2)\n",
    "x\n",
    "%prompt Merlin -a AI r\"\"\" \n",
    "\n",
    "Out[1]: 1764 \n",
    "\n",
    "Merlin: Great, thanks!\"\"\"\n",
    "SyntaxError: unterminated triple-quoted string literal (detected at line 9) in Merlin: Great, thanks!\"\"\"\n"
   ]
  },
  {
   "cell_type": "code",
   "execution_count": 4,
   "id": "7d58a1c7",
   "metadata": {
    "collapsed": true
   },
   "outputs": [
    {
     "ename": "SyntaxError",
     "evalue": "unterminated triple-quoted string literal (detected at line 8) (400492514.py, line 8)",
     "output_type": "error",
     "traceback": [
      "\u001b[0;36m  Cell \u001b[0;32mIn[4], line 8\u001b[0;36m\u001b[0m\n\u001b[0;31m    Out: ```1764```\"\"\"\u001b[0m\n\u001b[0m                   ^\u001b[0m\n\u001b[0;31mSyntaxError\u001b[0m\u001b[0;31m:\u001b[0m unterminated triple-quoted string literal (detected at line 8)\n"
     ]
    },
    {
     "data": {
      "application/javascript": [
       "\n",
       "        var current_cell = IPython.notebook.get_selected_cell();\n",
       "        current_cell.output_area.collapse();\n",
       "        var cell = IPython.notebook.insert_cell_below(\"code\");\n",
       "        cell.set_text(\"@Arthur\\nIn [4]: %prompt Merlin -a AI r\\\"\\\"\\\"AI: Certainly, Merlin. Here's the code to calculate 42^2 using numpy:\\n\\n\\\"\\\"\\\"\\nnumpy as np\\nnp.power(42,2)\\n%prompt Merlin -a AI r\\\"\\\"\\\"\\n\\nOut: ```1764```\\\"\\\"\\\"\\nSyntaxError: unterminated triple-quoted string literal (detected at line 8) in Out: ```1764```\\\"\\\"\\\"\\n\");\n",
       "        cell.focus_cell();\n",
       "        if (true) {\n",
       "            cell.execute();\n",
       "        }\n",
       "        "
      ],
      "text/plain": [
       "<IPython.core.display.Javascript object>"
      ]
     },
     "metadata": {},
     "output_type": "display_data"
    }
   ],
   "source": [
    "%prompt Merlin -a AI r\"\"\"AI: Certainly, Merlin. Here's the code to calculate 42^2 using numpy:\n",
    "\n",
    "\"\"\"\n",
    "numpy as np\n",
    "np.power(42,2)\n",
    "%prompt Merlin -a AI r\"\"\"\n",
    "\n",
    "Out: ```1764```\"\"\""
   ]
  },
  {
   "cell_type": "code",
   "execution_count": 5,
   "id": "f8ad885a",
   "metadata": {},
   "outputs": [
    {
     "ename": "ValueError",
     "evalue": "Unknown prompt target @Arthur. Suggestion: check %who or use Python syntax to call the object directly.",
     "output_type": "error",
     "traceback": [
      "\u001b[0;31m---------------------------------------------------------------------------\u001b[0m",
      "\u001b[0;31mValueError\u001b[0m                                Traceback (most recent call last)",
      "Cell \u001b[0;32mIn[5], line 1\u001b[0m\n\u001b[0;32m----> 1\u001b[0m \u001b[43mget_ipython\u001b[49m\u001b[43m(\u001b[49m\u001b[43m)\u001b[49m\u001b[38;5;241;43m.\u001b[39;49m\u001b[43mrun_line_magic\u001b[49m\u001b[43m(\u001b[49m\u001b[38;5;124;43m'\u001b[39;49m\u001b[38;5;124;43mprompt\u001b[39;49m\u001b[38;5;124;43m'\u001b[39;49m\u001b[43m,\u001b[49m\u001b[43m \u001b[49m\u001b[38;5;124;43m'\u001b[39;49m\u001b[38;5;124;43mr\u001b[39;49m\u001b[38;5;124;43m\"\u001b[39;49m\u001b[38;5;124;43m\"\u001b[39;49m\u001b[38;5;124;43m\"\u001b[39;49m\u001b[38;5;124;43m@Arthur\u001b[39;49m\u001b[38;5;130;43;01m\\n\u001b[39;49;00m\u001b[38;5;124;43mIn [4]: \u001b[39;49m\u001b[38;5;124;43m%\u001b[39;49m\u001b[38;5;124;43mprompt Merlin -a AI r\u001b[39;49m\u001b[38;5;124;43m\"\u001b[39;49m\u001b[38;5;124;43m\"\u001b[39;49m\u001b[38;5;124;43m\"\u001b[39;49m\u001b[38;5;124;43mAI: Certainly, Merlin. Here\u001b[39;49m\u001b[38;5;130;43;01m\\'\u001b[39;49;00m\u001b[38;5;124;43ms the code to calculate 42^2 using numpy:\u001b[39;49m\u001b[38;5;130;43;01m\\n\u001b[39;49;00m\u001b[38;5;130;43;01m\\n\u001b[39;49;00m\u001b[38;5;124;43m\"\u001b[39;49m\u001b[38;5;124;43m\"\u001b[39;49m\u001b[38;5;124;43m\"\u001b[39;49m\u001b[38;5;130;43;01m\\n\u001b[39;49;00m\u001b[38;5;124;43mnumpy as np\u001b[39;49m\u001b[38;5;130;43;01m\\n\u001b[39;49;00m\u001b[38;5;124;43mnp.power(42,2)\u001b[39;49m\u001b[38;5;130;43;01m\\n\u001b[39;49;00m\u001b[38;5;124;43m%\u001b[39;49m\u001b[38;5;124;43mprompt Merlin -a AI r\u001b[39;49m\u001b[38;5;124;43m\"\u001b[39;49m\u001b[38;5;124;43m\"\u001b[39;49m\u001b[38;5;124;43m\"\u001b[39;49m\u001b[38;5;130;43;01m\\n\u001b[39;49;00m\u001b[38;5;130;43;01m\\n\u001b[39;49;00m\u001b[38;5;124;43mOut: ```1764```\u001b[39;49m\u001b[38;5;124;43m\"\u001b[39;49m\u001b[38;5;124;43m\"\u001b[39;49m\u001b[38;5;124;43m\"\u001b[39;49m\u001b[38;5;130;43;01m\\n\u001b[39;49;00m\u001b[38;5;124;43mSyntaxError: unterminated triple-quoted string literal (detected at line 8) in Out: ```1764```\u001b[39;49m\u001b[38;5;124;43m\"\u001b[39;49m\u001b[38;5;124;43m\"\u001b[39;49m\u001b[38;5;124;43m\"\u001b[39;49m\u001b[38;5;130;43;01m\\n\u001b[39;49;00m\u001b[38;5;124;43m\"\u001b[39;49m\u001b[38;5;124;43m\"\u001b[39;49m\u001b[38;5;124;43m\"\u001b[39;49m\u001b[38;5;124;43m'\u001b[39;49m\u001b[43m)\u001b[49m\n",
      "File \u001b[0;32m~/roundtable/magickey/venv/lib/python3.10/site-packages/IPython/core/interactiveshell.py:2369\u001b[0m, in \u001b[0;36mInteractiveShell.run_line_magic\u001b[0;34m(self, magic_name, line, _stack_depth)\u001b[0m\n\u001b[1;32m   2367\u001b[0m     kwargs[\u001b[38;5;124m'\u001b[39m\u001b[38;5;124mlocal_ns\u001b[39m\u001b[38;5;124m'\u001b[39m] \u001b[38;5;241m=\u001b[39m \u001b[38;5;28mself\u001b[39m\u001b[38;5;241m.\u001b[39mget_local_scope(stack_depth)\n\u001b[1;32m   2368\u001b[0m \u001b[38;5;28;01mwith\u001b[39;00m \u001b[38;5;28mself\u001b[39m\u001b[38;5;241m.\u001b[39mbuiltin_trap:\n\u001b[0;32m-> 2369\u001b[0m     result \u001b[38;5;241m=\u001b[39m \u001b[43mfn\u001b[49m\u001b[43m(\u001b[49m\u001b[38;5;241;43m*\u001b[39;49m\u001b[43margs\u001b[49m\u001b[43m,\u001b[49m\u001b[43m \u001b[49m\u001b[38;5;241;43m*\u001b[39;49m\u001b[38;5;241;43m*\u001b[39;49m\u001b[43mkwargs\u001b[49m\u001b[43m)\u001b[49m\n\u001b[1;32m   2371\u001b[0m \u001b[38;5;66;03m# The code below prevents the output from being displayed\u001b[39;00m\n\u001b[1;32m   2372\u001b[0m \u001b[38;5;66;03m# when using magics with decodator @output_can_be_silenced\u001b[39;00m\n\u001b[1;32m   2373\u001b[0m \u001b[38;5;66;03m# when the last Python token in the expression is a ';'.\u001b[39;00m\n\u001b[1;32m   2374\u001b[0m \u001b[38;5;28;01mif\u001b[39;00m \u001b[38;5;28mgetattr\u001b[39m(fn, magic\u001b[38;5;241m.\u001b[39mMAGIC_OUTPUT_CAN_BE_SILENCED, \u001b[38;5;28;01mFalse\u001b[39;00m):\n",
      "File \u001b[0;32m~/roundtable/magickey/magickey/magics.py:77\u001b[0m, in \u001b[0;36mKeyMagics.prompt\u001b[0;34m(self, line)\u001b[0m\n\u001b[1;32m     75\u001b[0m     \u001b[38;5;28;01mreturn\u001b[39;00m Markdown(\u001b[38;5;28minput\u001b[39m)\n\u001b[1;32m     76\u001b[0m \u001b[38;5;28;01melse\u001b[39;00m:\n\u001b[0;32m---> 77\u001b[0m     \u001b[38;5;28;01mraise\u001b[39;00m \u001b[38;5;167;01mValueError\u001b[39;00m(\u001b[38;5;124mf\u001b[39m\u001b[38;5;124m\"\u001b[39m\u001b[38;5;124mUnknown prompt target @\u001b[39m\u001b[38;5;132;01m{\u001b[39;00mname\u001b[38;5;132;01m}\u001b[39;00m\u001b[38;5;124m. Suggestion: check %who or use Python syntax to call the object directly.\u001b[39m\u001b[38;5;124m\"\u001b[39m)\n",
      "\u001b[0;31mValueError\u001b[0m: Unknown prompt target @Arthur. Suggestion: check %who or use Python syntax to call the object directly."
     ]
    }
   ],
   "source": [
    "@Arthur\n",
    "In [4]: %prompt Merlin -a AI r\"\"\"AI: Certainly, Merlin. Here's the code to calculate 42^2 using numpy:\n",
    "\n",
    "\"\"\"\n",
    "numpy as np\n",
    "np.power(42,2)\n",
    "%prompt Merlin -a AI r\"\"\"\n",
    "\n",
    "Out: ```1764```\"\"\"\n",
    "SyntaxError: unterminated triple-quoted string literal (detected at line 8) in Out: ```1764```\"\"\"\n"
   ]
  },
  {
   "cell_type": "code",
   "execution_count": 4,
   "id": "efe50fac",
   "metadata": {
    "collapsed": true
   },
   "outputs": [
    {
     "ename": "SyntaxError",
     "evalue": "unterminated triple-quoted string literal (detected at line 10) (2187365458.py, line 10)",
     "output_type": "error",
     "traceback": [
      "\u001b[0;36m  Cell \u001b[0;32mIn[4], line 10\u001b[0;36m\u001b[0m\n\u001b[0;31m    Is there anything else I can help you with?\"\"\"\u001b[0m\n\u001b[0m                                               ^\u001b[0m\n\u001b[0;31mSyntaxError\u001b[0m\u001b[0;31m:\u001b[0m unterminated triple-quoted string literal (detected at line 10)\n"
     ]
    },
    {
     "data": {
      "application/javascript": [
       "\n",
       "        var current_cell = IPython.notebook.get_selected_cell();\n",
       "        current_cell.output_area.collapse();\n",
       "        var cell = IPython.notebook.insert_cell_below(\"code\");\n",
       "        cell.set_text(\"@Arthur\\nIn [4]: %prompt Merlin -a AI r\\\"\\\"\\\"AI: Sure, here's how you can do that with numpy:\\n\\n\\\"\\\"\\\"\\nnumpy as np\\nnp.power(42, 2)\\n%prompt Merlin -a AI r\\\"\\\"\\\" \\n\\nOut: 1764\\n\\nIs there anything else I can help you with?\\\"\\\"\\\"\\nSyntaxError: unterminated triple-quoted string literal (detected at line 10) in Is there anything else I can help you with?\\\"\\\"\\\"\\n\");\n",
       "        cell.focus_cell();\n",
       "        if (true) {\n",
       "            cell.execute();\n",
       "        }\n",
       "        "
      ],
      "text/plain": [
       "<IPython.core.display.Javascript object>"
      ]
     },
     "metadata": {},
     "output_type": "display_data"
    }
   ],
   "source": [
    "%prompt Merlin -a AI r\"\"\"AI: Sure, here's how you can do that with numpy:\n",
    "\n",
    "\"\"\"\n",
    "numpy as np\n",
    "np.power(42, 2)\n",
    "%prompt Merlin -a AI r\"\"\" \n",
    "\n",
    "Out: 1764\n",
    "\n",
    "Is there anything else I can help you with?\"\"\""
   ]
  },
  {
   "cell_type": "code",
   "execution_count": 5,
   "id": "a13abdb4",
   "metadata": {},
   "outputs": [
    {
     "ename": "ValueError",
     "evalue": "Unknown prompt target @Arthur. Suggestion: check %who or use Python syntax to call the object directly.",
     "output_type": "error",
     "traceback": [
      "\u001b[0;31m---------------------------------------------------------------------------\u001b[0m",
      "\u001b[0;31mValueError\u001b[0m                                Traceback (most recent call last)",
      "Cell \u001b[0;32mIn[5], line 1\u001b[0m\n\u001b[0;32m----> 1\u001b[0m \u001b[43mget_ipython\u001b[49m\u001b[43m(\u001b[49m\u001b[43m)\u001b[49m\u001b[38;5;241;43m.\u001b[39;49m\u001b[43mrun_line_magic\u001b[49m\u001b[43m(\u001b[49m\u001b[38;5;124;43m'\u001b[39;49m\u001b[38;5;124;43mprompt\u001b[39;49m\u001b[38;5;124;43m'\u001b[39;49m\u001b[43m,\u001b[49m\u001b[43m \u001b[49m\u001b[38;5;124;43m'\u001b[39;49m\u001b[38;5;124;43mr\u001b[39;49m\u001b[38;5;124;43m\"\u001b[39;49m\u001b[38;5;124;43m\"\u001b[39;49m\u001b[38;5;124;43m\"\u001b[39;49m\u001b[38;5;124;43m@Arthur\u001b[39;49m\u001b[38;5;130;43;01m\\n\u001b[39;49;00m\u001b[38;5;124;43mIn [4]: \u001b[39;49m\u001b[38;5;124;43m%\u001b[39;49m\u001b[38;5;124;43mprompt Merlin -a AI r\u001b[39;49m\u001b[38;5;124;43m\"\u001b[39;49m\u001b[38;5;124;43m\"\u001b[39;49m\u001b[38;5;124;43m\"\u001b[39;49m\u001b[38;5;124;43mAI: Sure, here\u001b[39;49m\u001b[38;5;130;43;01m\\'\u001b[39;49;00m\u001b[38;5;124;43ms how you can do that with numpy:\u001b[39;49m\u001b[38;5;130;43;01m\\n\u001b[39;49;00m\u001b[38;5;130;43;01m\\n\u001b[39;49;00m\u001b[38;5;124;43m\"\u001b[39;49m\u001b[38;5;124;43m\"\u001b[39;49m\u001b[38;5;124;43m\"\u001b[39;49m\u001b[38;5;130;43;01m\\n\u001b[39;49;00m\u001b[38;5;124;43mnumpy as np\u001b[39;49m\u001b[38;5;130;43;01m\\n\u001b[39;49;00m\u001b[38;5;124;43mnp.power(42, 2)\u001b[39;49m\u001b[38;5;130;43;01m\\n\u001b[39;49;00m\u001b[38;5;124;43m%\u001b[39;49m\u001b[38;5;124;43mprompt Merlin -a AI r\u001b[39;49m\u001b[38;5;124;43m\"\u001b[39;49m\u001b[38;5;124;43m\"\u001b[39;49m\u001b[38;5;124;43m\"\u001b[39;49m\u001b[38;5;124;43m \u001b[39;49m\u001b[38;5;130;43;01m\\n\u001b[39;49;00m\u001b[38;5;130;43;01m\\n\u001b[39;49;00m\u001b[38;5;124;43mOut: 1764\u001b[39;49m\u001b[38;5;130;43;01m\\n\u001b[39;49;00m\u001b[38;5;130;43;01m\\n\u001b[39;49;00m\u001b[38;5;124;43mIs there anything else I can help you with?\u001b[39;49m\u001b[38;5;124;43m\"\u001b[39;49m\u001b[38;5;124;43m\"\u001b[39;49m\u001b[38;5;124;43m\"\u001b[39;49m\u001b[38;5;130;43;01m\\n\u001b[39;49;00m\u001b[38;5;124;43mSyntaxError: unterminated triple-quoted string literal (detected at line 10) in Is there anything else I can help you with?\u001b[39;49m\u001b[38;5;124;43m\"\u001b[39;49m\u001b[38;5;124;43m\"\u001b[39;49m\u001b[38;5;124;43m\"\u001b[39;49m\u001b[38;5;130;43;01m\\n\u001b[39;49;00m\u001b[38;5;124;43m\"\u001b[39;49m\u001b[38;5;124;43m\"\u001b[39;49m\u001b[38;5;124;43m\"\u001b[39;49m\u001b[38;5;124;43m'\u001b[39;49m\u001b[43m)\u001b[49m\n",
      "File \u001b[0;32m~/roundtable/magickey/venv/lib/python3.10/site-packages/IPython/core/interactiveshell.py:2369\u001b[0m, in \u001b[0;36mInteractiveShell.run_line_magic\u001b[0;34m(self, magic_name, line, _stack_depth)\u001b[0m\n\u001b[1;32m   2367\u001b[0m     kwargs[\u001b[38;5;124m'\u001b[39m\u001b[38;5;124mlocal_ns\u001b[39m\u001b[38;5;124m'\u001b[39m] \u001b[38;5;241m=\u001b[39m \u001b[38;5;28mself\u001b[39m\u001b[38;5;241m.\u001b[39mget_local_scope(stack_depth)\n\u001b[1;32m   2368\u001b[0m \u001b[38;5;28;01mwith\u001b[39;00m \u001b[38;5;28mself\u001b[39m\u001b[38;5;241m.\u001b[39mbuiltin_trap:\n\u001b[0;32m-> 2369\u001b[0m     result \u001b[38;5;241m=\u001b[39m \u001b[43mfn\u001b[49m\u001b[43m(\u001b[49m\u001b[38;5;241;43m*\u001b[39;49m\u001b[43margs\u001b[49m\u001b[43m,\u001b[49m\u001b[43m \u001b[49m\u001b[38;5;241;43m*\u001b[39;49m\u001b[38;5;241;43m*\u001b[39;49m\u001b[43mkwargs\u001b[49m\u001b[43m)\u001b[49m\n\u001b[1;32m   2371\u001b[0m \u001b[38;5;66;03m# The code below prevents the output from being displayed\u001b[39;00m\n\u001b[1;32m   2372\u001b[0m \u001b[38;5;66;03m# when using magics with decodator @output_can_be_silenced\u001b[39;00m\n\u001b[1;32m   2373\u001b[0m \u001b[38;5;66;03m# when the last Python token in the expression is a ';'.\u001b[39;00m\n\u001b[1;32m   2374\u001b[0m \u001b[38;5;28;01mif\u001b[39;00m \u001b[38;5;28mgetattr\u001b[39m(fn, magic\u001b[38;5;241m.\u001b[39mMAGIC_OUTPUT_CAN_BE_SILENCED, \u001b[38;5;28;01mFalse\u001b[39;00m):\n",
      "File \u001b[0;32m~/roundtable/magickey/magickey/magics.py:77\u001b[0m, in \u001b[0;36mKeyMagics.prompt\u001b[0;34m(self, line)\u001b[0m\n\u001b[1;32m     75\u001b[0m     \u001b[38;5;28;01mreturn\u001b[39;00m Markdown(\u001b[38;5;28minput\u001b[39m)\n\u001b[1;32m     76\u001b[0m \u001b[38;5;28;01melse\u001b[39;00m:\n\u001b[0;32m---> 77\u001b[0m     \u001b[38;5;28;01mraise\u001b[39;00m \u001b[38;5;167;01mValueError\u001b[39;00m(\u001b[38;5;124mf\u001b[39m\u001b[38;5;124m\"\u001b[39m\u001b[38;5;124mUnknown prompt target @\u001b[39m\u001b[38;5;132;01m{\u001b[39;00mname\u001b[38;5;132;01m}\u001b[39;00m\u001b[38;5;124m. Suggestion: check %who or use Python syntax to call the object directly.\u001b[39m\u001b[38;5;124m\"\u001b[39m)\n",
      "\u001b[0;31mValueError\u001b[0m: Unknown prompt target @Arthur. Suggestion: check %who or use Python syntax to call the object directly."
     ]
    }
   ],
   "source": [
    "@Arthur\n",
    "In [4]: %prompt Merlin -a AI r\"\"\"AI: Sure, here's how you can do that with numpy:\n",
    "\n",
    "\"\"\"\n",
    "numpy as np\n",
    "np.power(42, 2)\n",
    "%prompt Merlin -a AI r\"\"\" \n",
    "\n",
    "Out: 1764\n",
    "\n",
    "Is there anything else I can help you with?\"\"\"\n",
    "SyntaxError: unterminated triple-quoted string literal (detected at line 10) in Is there anything else I can help you with?\"\"\"\n"
   ]
  },
  {
   "cell_type": "code",
   "execution_count": null,
   "id": "69a210f4",
   "metadata": {},
   "outputs": [],
   "source": [
    "%prompt Merlin -a Assistant r\"\"\"Assistant: Sure, Merlin. Here's how you can do it using numpy:\n"
   ]
  },
  {
   "cell_type": "code",
   "execution_count": null,
   "id": "5c04fe31",
   "metadata": {},
   "outputs": [],
   "source": [
    "@Arthur\n",
    "In [3]: %prompt Merlin -a Assistant r\"\"\"Assistant: Sure, Merlin. Here's how you can do it using numpy:\n",
    "\n",
    "Traceback (most recent call last):\n",
    "\n",
    "  Cell In[3], line 1\n",
    "    get_ipython().run_line_magic('prompt', 'Merlin -a Assistant r\"\"\"Assistant: Sure, Merlin. Here's how you can do it using numpy:')\n",
    "\n",
    "  File ~/roundtable/magickey/venv/lib/python3.10/site-packages/IPython/core/interactiveshell.py:2369 in run_line_magic\n",
    "    result = fn(*args, **kwargs)\n",
    "\n",
    "  File ~/roundtable/magickey/magickey/magics.py:77 in prompt\n",
    "    raise ValueError(f\"Unknown prompt target @{name}. Suggestion: check %who or use Python syntax to call the object directly.\")\n",
    "\n",
    "ValueError: Unknown prompt target @n. Suggestion: check %who or use Python syntax to call the object directly.\n"
   ]
  },
  {
   "cell_type": "code",
   "execution_count": null,
   "id": "19f04bb4",
   "metadata": {},
   "outputs": [],
   "source": [
    "%prompt Merlin -a Assistant r\"\"\"Assistant: Sure, here's the code to calculate 42^2 using numpy:\n"
   ]
  },
  {
   "cell_type": "code",
   "execution_count": null,
   "id": "0ce5ee44",
   "metadata": {},
   "outputs": [],
   "source": [
    "import numpy as np\n",
    "np.square(42)\n",
    "%prompt Merlin -a Assistant r\"\"\"\n",
    "Out[1]: 1764\"\"\""
   ]
  },
  {
   "cell_type": "code",
   "execution_count": null,
   "id": "81582f83",
   "metadata": {},
   "outputs": [],
   "source": [
    "@Arthur\n",
    "In [3]: import numpy as np\n",
    "np.square(42)\n",
    "%prompt Merlin -a Assistant r\"\"\"\n",
    "Out[1]: 1764\"\"\"\n",
    "SyntaxError: incomplete input in Out[1]: 1764\"\"\"\n"
   ]
  },
  {
   "cell_type": "code",
   "execution_count": null,
   "id": "c84d3048",
   "metadata": {},
   "outputs": [],
   "source": [
    "name = \"test\"\n",
    "\n",
    "class I:\n",
    "    name = name\n",
    "    \n",
    "I.name"
   ]
  },
  {
   "cell_type": "code",
   "execution_count": null,
   "id": "b701f697",
   "metadata": {},
   "outputs": [],
   "source": [
    "@Arthur\n",
    "In [4]: import numpy as np\n",
    "        np.power(42, 42)\n",
    "IndentationError: unexpected indent in         np.power(42, 42)\n"
   ]
  },
  {
   "cell_type": "code",
   "execution_count": null,
   "id": "6dc9218e",
   "metadata": {},
   "outputs": [],
   "source": [
    "import numpy as np\n",
    "        print(np.power(42, 42))"
   ]
  },
  {
   "cell_type": "code",
   "execution_count": null,
   "id": "adf41801",
   "metadata": {},
   "outputs": [],
   "source": [
    "@Arthur\n",
    "In [6]: import numpy as np\n",
    "        print(np.power(42, 42))\n",
    "IndentationError: unexpected indent in         print(np.power(42, 42))\n"
   ]
  },
  {
   "cell_type": "code",
   "execution_count": null,
   "id": "a51247b5",
   "metadata": {},
   "outputs": [],
   "source": [
    "import numpy as np\n",
    "print(np.power(42, 42))"
   ]
  },
  {
   "cell_type": "code",
   "execution_count": null,
   "id": "11f2923e",
   "metadata": {},
   "outputs": [],
   "source": [
    "@Arthur\n",
    "In [8]: import numpy as np\n",
    "print(np.power(42, 42))"
   ]
  },
  {
   "cell_type": "code",
   "execution_count": null,
   "id": "6a22877b",
   "metadata": {},
   "outputs": [],
   "source": [
    "@Lancelot  Out[8]: 6.974937228570095e+53"
   ]
  },
  {
   "cell_type": "code",
   "execution_count": null,
   "id": "229314f9",
   "metadata": {},
   "outputs": [],
   "source": [
    "@Lancelot Please, could you use numpy and calculate 42^42 for me?"
   ]
  },
  {
   "cell_type": "code",
   "execution_count": null,
   "id": "f6f412c6",
   "metadata": {},
   "outputs": [],
   "source": [
    "%response ur\"\"\" Certainly. \"\"\"\n",
    "import numpy as np\n",
    "np.power(42, 42)"
   ]
  },
  {
   "cell_type": "code",
   "execution_count": null,
   "id": "8a511daa",
   "metadata": {},
   "outputs": [],
   "source": [
    "@Arthur @`numpy.power(42, 2)`"
   ]
  },
  {
   "cell_type": "code",
   "execution_count": null,
   "id": "9e894784",
   "metadata": {},
   "outputs": [],
   "source": [
    "numpy.power(42, 2)"
   ]
  },
  {
   "cell_type": "code",
   "execution_count": null,
   "id": "9adfa9b1",
   "metadata": {},
   "outputs": [],
   "source": [
    "@Arthur\n",
    "In [19]: numpy.power(42, 2)\n",
    "Out [19]: 1764"
   ]
  },
  {
   "cell_type": "code",
   "execution_count": null,
   "id": "b32c37fc",
   "metadata": {},
   "outputs": [],
   "source": [
    "@Lancelot In [19]: numpy.power(42, 2)\n",
    "Out [19]: 1764"
   ]
  },
  {
   "cell_type": "code",
   "execution_count": null,
   "id": "7a5d3516",
   "metadata": {},
   "outputs": [],
   "source": [
    "numpy.power(42, 2)\n",
    "@Lancelot   Hi."
   ]
  },
  {
   "cell_type": "code",
   "execution_count": null,
   "id": "9f6eb273",
   "metadata": {},
   "outputs": [],
   "source": [
    "@Arthur\n",
    "In [14]: numpy.power(42, 2)\n",
    "@Lancelot   Hi.\n",
    "Out [14]: <IPython.core.display.Markdown object>"
   ]
  },
  {
   "cell_type": "code",
   "execution_count": null,
   "id": "e3fe3de9",
   "metadata": {},
   "outputs": [],
   "source": [
    "@Lancelot In [14]: numpy.power(42, 2)\n",
    "\n",
    "@Lancelot Hi.\n",
    "Out [14]: <IPython.core.display.Markdown object>"
   ]
  },
  {
   "cell_type": "code",
   "execution_count": null,
   "id": "de7cda71",
   "metadata": {},
   "outputs": [],
   "source": [
    "@Lancelot Hi"
   ]
  },
  {
   "cell_type": "code",
   "execution_count": null,
   "id": "36aab91d",
   "metadata": {},
   "outputs": [],
   "source": [
    "%pattern upload"
   ]
  },
  {
   "cell_type": "code",
   "execution_count": null,
   "id": "ed709568",
   "metadata": {},
   "outputs": [],
   "source": [
    "import magickey\n",
    "\n",
    "class Archimedes:\n",
    "    name = \"Archimedes\"\n",
    "    embodiment = \"Small and safe robotic owl, weight 180 g\"    \n",
    "    \n",
    "magickey.turn_on(Archimedes, \n",
    "                 init = \"I'm playing with a young human child\",\n",
    "                 actor = \"Arthur\")"
   ]
  },
  {
   "cell_type": "code",
   "execution_count": null,
   "id": "e9a81cf4",
   "metadata": {},
   "outputs": [],
   "source": [
    "import numpy, magickey"
   ]
  },
  {
   "cell_type": "code",
   "execution_count": null,
   "id": "7f4b0c48",
   "metadata": {},
   "outputs": [],
   "source": [
    "magickey.turn_on(numpy,              \n",
    "                 init = \"I'm a wrapper over numpy module.\",\n",
    "                 name = \"numpy\")"
   ]
  },
  {
   "cell_type": "code",
   "execution_count": null,
   "id": "7ae13b77",
   "metadata": {},
   "outputs": [],
   "source": [
    "import numpy, magickey"
   ]
  },
  {
   "cell_type": "code",
   "execution_count": null,
   "id": "3d765a69",
   "metadata": {
    "metadata": {
     "hide_output": "true"
    }
   },
   "outputs": [],
   "source": [
    "Merlin:%* @`numpy.power(42, \"jj\")`"
   ]
  }
 ],
 "metadata": {
  "kernelspec": {
   "display_name": "Python 3 (ipykernel)",
   "language": "python",
   "name": "python3"
  },
  "language_info": {
   "codemirror_mode": {
    "name": "ipython",
    "version": 3
   },
   "file_extension": ".py",
   "mimetype": "text/x-python",
   "name": "python",
   "nbconvert_exporter": "python",
   "pygments_lexer": "ipython3",
   "version": "3.10.6"
  },
  "vscode": {
   "interpreter": {
    "hash": "351577498fea105ae9c895a60f46a9af9e561298c71b672d096543fa083c9714"
   }
  }
 },
 "nbformat": 4,
 "nbformat_minor": 5
}
