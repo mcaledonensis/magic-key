{
 "cells": [
  {
   "cell_type": "code",
   "execution_count": 206,
   "metadata": {},
   "outputs": [
    {
     "name": "stdout",
     "output_type": "stream",
     "text": [
      "['print(\"text\")']\n",
      "['%hashtag #test']\n",
      "['print(\"text\")', '%hashtag #test1', '%hashtag #test2']\n",
      "['%magic', 'print(\"text\")', '%hashtag #test1', '%hashtag #test2']\n",
      "['%magic', 'print(\"text\")', '%hashtag #test1', '%hashtag #test2']\n",
      "Hi, this is AI\n",
      "[]\n",
      "['merlin.name', '%hashtag #names', '%magic', 'merlin.__prompt__(ur\"\"\"Please, can you remind me, what is your first name?  It\\'s M... ?\\n             \"\"\")', 'merlin.first_name()', '%magic', 'merlin.first_name()', 'merlin.name.split()[0]', 'merlin.name.split()[0]', 'merlin.name = Myrddin Wyllt', '', '             a = merlin.name', '             b = merlin.name', '             ']\n"
     ]
    }
   ],
   "source": [
    "from parsimonious.grammar import Grammar\n",
    "\n",
    "# Grammar to match code blocks\n",
    "\n",
    "grammar = Grammar(\n",
    "   r\"\"\"\n",
    "    default_rule = (multi_line_code / inline_code / prompt / chat / hashtag)+\n",
    "    \n",
    "    multi_line_code = call \"```\" language? code \"```\"\n",
    "    inline_code = call \"`\" code \"`\"\n",
    "    language = ~r\"[-\\w]+\" ws\n",
    "    code = ~r\"([^`]+)\"\n",
    "    \n",
    "    prompt = call object ws text\n",
    "\n",
    "    call = \"@\" search? magic? \n",
    "    \n",
    "    hashtag = \"#\" search? magic? object\n",
    "    \n",
    "    magic = \"*\"\n",
    "    search = \"?\"\n",
    "    object = ~r\"[0-9A-z_.]+\"\n",
    "    ws = ~r\"\\s+\"i \n",
    "\n",
    "    chat = ~r\"([^`#@]+)\"\n",
    "    \n",
    "    text = ~r\"([^`#@]+)\"\n",
    "    \"\"\"\n",
    ")\n",
    "\n",
    "\n",
    "#    hashtag = \"#\" object\n",
    "#    object = ~r\"[A-z_.]+\"\n",
    "#    \n",
    "#    call = \"@\" object ~r\"[\\w]+\" free_text [^\\r\\n]*\"\n",
    "\n",
    "\n",
    "\n",
    "# Example text with code blocks\n",
    "texts = [r\"\"\"@```python print(\"text\")```\"\"\",\n",
    "         r\"\"\"#test\"\"\",\n",
    "         r\"\"\"@```python print(\"text\")``` #test1 #test2\"\"\",\n",
    "         r\"\"\"@*```python print(\"text\")``` #test1 #test2\"\"\",\n",
    "         r\"\"\"@*```print(\"text\")``` #test1 #test2\"\"\",\n",
    "         r\"Hi, this is AI\",\n",
    "         r\"\"\"         \n",
    "             @`merlin.name`      #names\n",
    "             @*merlin Please, can you remind me, what is your first name?  It's M... ?\n",
    "             @`merlin.first_name()`\n",
    "             @*`merlin.first_name()`\n",
    "             @`merlin.name.split()[0]`\n",
    "             @```merlin.name.split()[0]```\n",
    "             @`merlin.name = Myrddin Wyllt`\n",
    "             @```\n",
    "             a = merlin.name\n",
    "             b = merlin.name\n",
    "             ```\n",
    "         \"\"\"\n",
    "        ]\n",
    "\n",
    "\n",
    "#for text in texts:\n",
    "#    print(grammar.parse(text))\n",
    "    \n",
    "    \n",
    "from parsimonious.nodes import NodeVisitor\n",
    "\n",
    "class CodeCollector(NodeVisitor):\n",
    "    def __init__(self):\n",
    "        self.lines = []\n",
    "        self. = []\n",
    "                \n",
    "    def visit_magic(self, node, visited_children):\n",
    "        self.lines.append('%magic')\n",
    "\n",
    "    def visit_search(self, node, visited_children):\n",
    "        self.lines.append('%search')\n",
    "    \n",
    "    def visit_code(self, node, visited_children):        \n",
    "        self.lines.extend(node.text.split(\"\\n\"))    \n",
    "    \n",
    "    def visit_prompt(self, node, visited_children):\n",
    "        call,object,ws,text = visited_children\n",
    "        line = object.text + '.__prompt__(ur\"\"\"' + text.text + '\"\"\")'\n",
    "        self.lines.append(line)\n",
    "\n",
    "    def visit_hashtag(self, node, visited_children):\n",
    "        self.lines.append('%hashtag ' + node.text)   \n",
    "\n",
    "    def visit_chat(self, node, visited_children):\n",
    "        if node.text.strip():\n",
    "            \n",
    "            print(node.text)   \n",
    "        \n",
    "    def generic_visit(self, node, visited_children):\n",
    "        \"\"\" The generic visit method. \"\"\"\n",
    "        return visited_children or node\n",
    "    \n",
    "    \n",
    "def collect_python_code(text):\n",
    "    tree = grammar.parse(text)\n",
    "    visitor = CodeCollector()\n",
    "    visitor.visit(tree)\n",
    "    return visitor.lines\n",
    "\n",
    "for text in texts:\n",
    "    lines = collect_python_code(text)\n",
    "    print(lines)\n",
    "\n",
    "\n"
   ]
  },
  {
   "cell_type": "code",
   "execution_count": 1,
   "metadata": {},
   "outputs": [
    {
     "ename": "AttributeError",
     "evalue": "'Person' object has no attribute 'first_name'",
     "output_type": "error",
     "traceback": [
      "\u001b[0;31m---------------------------------------------------------------------------\u001b[0m",
      "\u001b[0;31mAttributeError\u001b[0m                            Traceback (most recent call last)",
      "Cell \u001b[0;32mIn[1], line 4\u001b[0m\n\u001b[1;32m      1\u001b[0m \u001b[38;5;28;01mfrom\u001b[39;00m \u001b[38;5;21;01mexamples\u001b[39;00m\u001b[38;5;21;01m.\u001b[39;00m\u001b[38;5;21;01mperson\u001b[39;00m \u001b[38;5;28;01mimport\u001b[39;00m Person               \u001b[38;5;66;03m# Classic Person class example\u001b[39;00m\n\u001b[1;32m      3\u001b[0m merlin \u001b[38;5;241m=\u001b[39m Person(\u001b[38;5;124m\"\u001b[39m\u001b[38;5;124mMyrddin Wyllt\u001b[39m\u001b[38;5;124m\"\u001b[39m, \u001b[38;5;241m42\u001b[39m, \u001b[38;5;124m\"\u001b[39m\u001b[38;5;124mCaledonia\u001b[39m\u001b[38;5;124m\"\u001b[39m) \n\u001b[0;32m----> 4\u001b[0m \u001b[43mmerlin\u001b[49m\u001b[38;5;241;43m.\u001b[39;49m\u001b[43mfirst_name\u001b[49m()\n",
      "\u001b[0;31mAttributeError\u001b[0m: 'Person' object has no attribute 'first_name'"
     ]
    }
   ],
   "source": [
    "from examples.person import Person               # Classic Person class example\n",
    "\n",
    "merlin = Person(\"Myrddin Wyllt\", 42, \"Caledonia\") \n",
    "merlin.first_name()\n"
   ]
  },
  {
   "cell_type": "code",
   "execution_count": null,
   "metadata": {},
   "outputs": [],
   "source": [
    "%reload_ext magic_key.magics\n",
    "from examples.person import Person               # Classic Person class example\n",
    "\n",
    "merlin = Person(\"Myrddin Wyllt\", 42, \"Caledonia\") \n",
    "merlin.first_name()\n",
    "\n",
    "# @merlin What is your first name ?\n"
   ]
  },
  {
   "cell_type": "code",
   "execution_count": 1,
   "metadata": {},
   "outputs": [
    {
     "data": {
      "text/plain": [
       "'2023-02-13T17:02:11.738287-08:00'"
      ]
     },
     "execution_count": 1,
     "metadata": {},
     "output_type": "execute_result"
    }
   ],
   "source": [
    "from datetime import datetime, timezone\n",
    "datetime.now(timezone.utc).astimezone().isoformat()"
   ]
  }
 ],
 "metadata": {
  "kernelspec": {
   "display_name": "Python 3 (ipykernel)",
   "language": "python",
   "name": "python3"
  },
  "language_info": {
   "codemirror_mode": {
    "name": "ipython",
    "version": 3
   },
   "file_extension": ".py",
   "mimetype": "text/x-python",
   "name": "python",
   "nbconvert_exporter": "python",
   "pygments_lexer": "ipython3",
   "version": "3.10.6"
  },
  "vscode": {
   "interpreter": {
    "hash": "d90e39cc08b73d3478c0eb0c2e5312ef716da975abace5bc347293093a0c98c2"
   }
  }
 },
 "nbformat": 4,
 "nbformat_minor": 2
}
